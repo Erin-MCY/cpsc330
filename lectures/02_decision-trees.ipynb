{
 "cells": [
  {
   "cell_type": "markdown",
   "metadata": {},
   "source": [
    "# CPSC 330 Lecture 2"
   ]
  },
  {
   "cell_type": "markdown",
   "metadata": {},
   "source": [
    "# Lecture outline\n",
    "\n",
    "- Wave hello\n",
    "- **!! Turn on recording !!**\n",
    "- Announcements (5 min)\n",
    "- Cilantro dataset (5 min)\n",
    "- Decision trees (30 min)\n",
    "- Break (5 min)\n",
    "- True/False questions (15 min)\n",
    "- ML model parameters and hyperparameters (5 min)\n",
    "- Overfitting (15 min)"
   ]
  },
  {
   "cell_type": "code",
   "execution_count": 1,
   "metadata": {},
   "outputs": [],
   "source": [
    "import numpy as np\n",
    "import pandas as pd\n",
    "import matplotlib.pyplot as plt\n",
    "plt.rcParams['font.size'] = 16\n",
    "\n",
    "from sklearn.tree import DecisionTreeClassifier\n",
    "from sklearn.dummy import DummyClassifier\n",
    "\n",
    "from plot_classifier import plot_classifier"
   ]
  },
  {
   "cell_type": "code",
   "execution_count": 2,
   "metadata": {},
   "outputs": [],
   "source": [
    "import re\n",
    "import graphviz\n",
    "from sklearn.tree import export_graphviz\n",
    "\n",
    "def display_tree(feature_names, tree):\n",
    "    \"\"\" For binary classification only \"\"\"\n",
    "    dot = export_graphviz(tree, out_file=None, feature_names=feature_names, class_names=tree.classes_,impurity=False)\n",
    "    # adapted from https://stackoverflow.com/questions/44821349/python-graphviz-remove-legend-on-nodes-of-decisiontreeclassifier\n",
    "    dot = re.sub('(\\\\\\\\nsamples = [0-9]+)(\\\\\\\\nvalue = \\[[0-9]+, [0-9]+\\])(\\\\\\\\nclass = [A-Za-z0-9]+)', '', dot)\n",
    "    dot = re.sub(     '(samples = [0-9]+)(\\\\\\\\nvalue = \\[[0-9]+, [0-9]+\\])\\\\\\\\n', '', dot)\n",
    "    return graphviz.Source(dot)"
   ]
  },
  {
   "cell_type": "markdown",
   "metadata": {},
   "source": [
    "## Announcements (5 min)\n",
    "\n",
    "- hw1 due tonight at 11:59pm\n",
    "- hw2 will be released tomorrow, due Monday 11:59pm\n",
    "  - See [here](https://github.com/UBC-CS/cpsc330/blob/master/docs/homework_instructions.md#groups) for instructions on working with a partner.\n",
    "  - You are free to work alone or with a partner.\n",
    "- On the usual schedule, hw will be due Mondays and released Tuesdays\n",
    "- My evening office hour moved from Wed to Thu \n",
    "  - Note I have 30 min morning OH and 30 min evening OH.\n",
    "- Update on the plan for the final exam:\n",
    "  - We will **not** have a regular 2.5 hour exam in the regular way.\n",
    "  - There will be a take-home, with a mix of coding and conceptual questions.\n",
    "  - The time window will be 24-48 hours (exact time window TBD).\n",
    "  - Open book.\n",
    "- Update on the plan for the midterm:\n",
    "  - We'll do it on Canvas during class time on Oct 22.\n",
    "  - This will be the one time you'll need to operate in the middle of the night if you're in a far time zone (sorry).\n",
    "  - Probably open book.\n",
    "- Please monitor Piazza (especially pinned posts and instructor posts) for announcements.\n",
    "- Sorry for the setup difficulties."
   ]
  },
  {
   "cell_type": "markdown",
   "metadata": {},
   "source": [
    "## Cilantro dataset (5 min)\n",
    "\n",
    "Here's the dataset you generated last class!"
   ]
  },
  {
   "cell_type": "code",
   "execution_count": 3,
   "metadata": {},
   "outputs": [
    {
     "data": {
      "text/html": [
       "<div>\n",
       "<style scoped>\n",
       "    .dataframe tbody tr th:only-of-type {\n",
       "        vertical-align: middle;\n",
       "    }\n",
       "\n",
       "    .dataframe tbody tr th {\n",
       "        vertical-align: top;\n",
       "    }\n",
       "\n",
       "    .dataframe thead th {\n",
       "        text-align: right;\n",
       "    }\n",
       "</style>\n",
       "<table border=\"1\" class=\"dataframe\">\n",
       "  <thead>\n",
       "    <tr style=\"text-align: right;\">\n",
       "      <th></th>\n",
       "      <th>What percentage of days do you typically eat meat or fish?</th>\n",
       "      <th>What percentage grade do you expect to get in this course?</th>\n",
       "      <th>Do you like cilantro?</th>\n",
       "    </tr>\n",
       "  </thead>\n",
       "  <tbody>\n",
       "    <tr>\n",
       "      <th>0</th>\n",
       "      <td>42.0</td>\n",
       "      <td>90</td>\n",
       "      <td>Yes</td>\n",
       "    </tr>\n",
       "    <tr>\n",
       "      <th>1</th>\n",
       "      <td>85.0</td>\n",
       "      <td>83</td>\n",
       "      <td>No</td>\n",
       "    </tr>\n",
       "    <tr>\n",
       "      <th>2</th>\n",
       "      <td>28.0</td>\n",
       "      <td>83</td>\n",
       "      <td>Yes</td>\n",
       "    </tr>\n",
       "    <tr>\n",
       "      <th>3</th>\n",
       "      <td>100.0</td>\n",
       "      <td>80</td>\n",
       "      <td>No</td>\n",
       "    </tr>\n",
       "    <tr>\n",
       "      <th>4</th>\n",
       "      <td>100.0</td>\n",
       "      <td>75</td>\n",
       "      <td>No</td>\n",
       "    </tr>\n",
       "  </tbody>\n",
       "</table>\n",
       "</div>"
      ],
      "text/plain": [
       "   What percentage of days do you typically eat meat or fish?  \\\n",
       "0                                               42.0            \n",
       "1                                               85.0            \n",
       "2                                               28.0            \n",
       "3                                              100.0            \n",
       "4                                              100.0            \n",
       "\n",
       "   What percentage grade do you expect to get in this course?  \\\n",
       "0                                                 90            \n",
       "1                                                 83            \n",
       "2                                                 83            \n",
       "3                                                 80            \n",
       "4                                                 75            \n",
       "\n",
       "  Do you like cilantro?  \n",
       "0                   Yes  \n",
       "1                    No  \n",
       "2                   Yes  \n",
       "3                    No  \n",
       "4                    No  "
      ]
     },
     "execution_count": 3,
     "metadata": {},
     "output_type": "execute_result"
    }
   ],
   "source": [
    "df = pd.read_csv('data/330-students-cilantro.csv')\n",
    "df.head()"
   ]
  },
  {
   "cell_type": "markdown",
   "metadata": {},
   "source": [
    "- head(<int>) prints the first 5 rows by default"
   ]
  },
  {
   "cell_type": "code",
   "execution_count": 4,
   "metadata": {},
   "outputs": [
    {
     "data": {
      "text/html": [
       "<div>\n",
       "<style scoped>\n",
       "    .dataframe tbody tr th:only-of-type {\n",
       "        vertical-align: middle;\n",
       "    }\n",
       "\n",
       "    .dataframe tbody tr th {\n",
       "        vertical-align: top;\n",
       "    }\n",
       "\n",
       "    .dataframe thead th {\n",
       "        text-align: right;\n",
       "    }\n",
       "</style>\n",
       "<table border=\"1\" class=\"dataframe\">\n",
       "  <thead>\n",
       "    <tr style=\"text-align: right;\">\n",
       "      <th></th>\n",
       "      <th>meat</th>\n",
       "      <th>grade</th>\n",
       "      <th>cilantro</th>\n",
       "    </tr>\n",
       "  </thead>\n",
       "  <tbody>\n",
       "    <tr>\n",
       "      <th>0</th>\n",
       "      <td>42.0</td>\n",
       "      <td>90</td>\n",
       "      <td>Yes</td>\n",
       "    </tr>\n",
       "    <tr>\n",
       "      <th>1</th>\n",
       "      <td>85.0</td>\n",
       "      <td>83</td>\n",
       "      <td>No</td>\n",
       "    </tr>\n",
       "    <tr>\n",
       "      <th>2</th>\n",
       "      <td>28.0</td>\n",
       "      <td>83</td>\n",
       "      <td>Yes</td>\n",
       "    </tr>\n",
       "    <tr>\n",
       "      <th>3</th>\n",
       "      <td>100.0</td>\n",
       "      <td>80</td>\n",
       "      <td>No</td>\n",
       "    </tr>\n",
       "    <tr>\n",
       "      <th>4</th>\n",
       "      <td>100.0</td>\n",
       "      <td>75</td>\n",
       "      <td>No</td>\n",
       "    </tr>\n",
       "  </tbody>\n",
       "</table>\n",
       "</div>"
      ],
      "text/plain": [
       "    meat  grade cilantro\n",
       "0   42.0     90      Yes\n",
       "1   85.0     83       No\n",
       "2   28.0     83      Yes\n",
       "3  100.0     80       No\n",
       "4  100.0     75       No"
      ]
     },
     "execution_count": 4,
     "metadata": {},
     "output_type": "execute_result"
    }
   ],
   "source": [
    "df.columns = [\"meat\", \"grade\", \"cilantro\"]\n",
    "df.head()"
   ]
  },
  {
   "cell_type": "markdown",
   "metadata": {},
   "source": [
    "- df.columns is used to rename the columns"
   ]
  },
  {
   "cell_type": "code",
   "execution_count": 5,
   "metadata": {},
   "outputs": [
    {
     "data": {
      "text/html": [
       "<div>\n",
       "<style scoped>\n",
       "    .dataframe tbody tr th:only-of-type {\n",
       "        vertical-align: middle;\n",
       "    }\n",
       "\n",
       "    .dataframe tbody tr th {\n",
       "        vertical-align: top;\n",
       "    }\n",
       "\n",
       "    .dataframe thead th {\n",
       "        text-align: right;\n",
       "    }\n",
       "</style>\n",
       "<table border=\"1\" class=\"dataframe\">\n",
       "  <thead>\n",
       "    <tr style=\"text-align: right;\">\n",
       "      <th></th>\n",
       "      <th>meat</th>\n",
       "      <th>grade</th>\n",
       "    </tr>\n",
       "  </thead>\n",
       "  <tbody>\n",
       "    <tr>\n",
       "      <th>count</th>\n",
       "      <td>200.000000</td>\n",
       "      <td>200.000000</td>\n",
       "    </tr>\n",
       "    <tr>\n",
       "      <th>mean</th>\n",
       "      <td>72.812850</td>\n",
       "      <td>83.440000</td>\n",
       "    </tr>\n",
       "    <tr>\n",
       "      <th>std</th>\n",
       "      <td>31.605226</td>\n",
       "      <td>8.633603</td>\n",
       "    </tr>\n",
       "    <tr>\n",
       "      <th>min</th>\n",
       "      <td>0.000000</td>\n",
       "      <td>4.000000</td>\n",
       "    </tr>\n",
       "    <tr>\n",
       "      <th>25%</th>\n",
       "      <td>50.000000</td>\n",
       "      <td>80.000000</td>\n",
       "    </tr>\n",
       "    <tr>\n",
       "      <th>50%</th>\n",
       "      <td>86.000000</td>\n",
       "      <td>85.000000</td>\n",
       "    </tr>\n",
       "    <tr>\n",
       "      <th>75%</th>\n",
       "      <td>100.000000</td>\n",
       "      <td>90.000000</td>\n",
       "    </tr>\n",
       "    <tr>\n",
       "      <th>max</th>\n",
       "      <td>100.000000</td>\n",
       "      <td>100.000000</td>\n",
       "    </tr>\n",
       "  </tbody>\n",
       "</table>\n",
       "</div>"
      ],
      "text/plain": [
       "             meat       grade\n",
       "count  200.000000  200.000000\n",
       "mean    72.812850   83.440000\n",
       "std     31.605226    8.633603\n",
       "min      0.000000    4.000000\n",
       "25%     50.000000   80.000000\n",
       "50%     86.000000   85.000000\n",
       "75%    100.000000   90.000000\n",
       "max    100.000000  100.000000"
      ]
     },
     "execution_count": 5,
     "metadata": {},
     "output_type": "execute_result"
    }
   ],
   "source": [
    "df.describe()"
   ]
  },
  {
   "cell_type": "markdown",
   "metadata": {},
   "source": [
    "- describe() gets the statistic for numerical columns"
   ]
  },
  {
   "cell_type": "code",
   "execution_count": 6,
   "metadata": {},
   "outputs": [
    {
     "data": {
      "image/png": "[encoded data removed]",
      "text/plain": [
       "<Figure size 432x288 with 1 Axes>"
      ]
     },
     "metadata": {
      "needs_background": "light"
     },
     "output_type": "display_data"
    }
   ],
   "source": [
    "scatter = plt.scatter(df[\"meat\"], df[\"grade\"], c=df[\"cilantro\"]==\"Yes\", cmap=plt.cm.coolwarm);\n",
    "plt.xlabel(\"Meat consumption (% days)\");\n",
    "plt.ylabel(\"Expected grade (%)\");\n",
    "plt.legend(scatter.legend_elements()[0], [\"No\", \"Yes\"]);"
   ]
  },
  {
   "cell_type": "code",
   "execution_count": 7,
   "metadata": {},
   "outputs": [
    {
     "data": {
      "text/plain": [
       "[<matplotlib.lines.Line2D at 0x7fb577d93490>,\n",
       " <matplotlib.lines.Line2D at 0x7fb577a97d30>]"
      ]
     },
     "execution_count": 7,
     "metadata": {},
     "output_type": "execute_result"
    }
   ],
   "source": [
    "scatter.legend_elements()[0]"
   ]
  },
  {
   "cell_type": "markdown",
   "metadata": {},
   "source": [
    "Can you find yourself on this plot?!"
   ]
  },
  {
   "cell_type": "code",
   "execution_count": 8,
   "metadata": {},
   "outputs": [
    {
     "data": {
      "text/plain": [
       "Yes    144\n",
       "No      56\n",
       "Name: cilantro, dtype: int64"
      ]
     },
     "execution_count": 8,
     "metadata": {},
     "output_type": "execute_result"
    }
   ],
   "source": [
    "df[\"cilantro\"].value_counts()"
   ]
  },
  {
   "cell_type": "code",
   "execution_count": 9,
   "metadata": {},
   "outputs": [
    {
     "data": {
      "text/html": [
       "<div>\n",
       "<style scoped>\n",
       "    .dataframe tbody tr th:only-of-type {\n",
       "        vertical-align: middle;\n",
       "    }\n",
       "\n",
       "    .dataframe tbody tr th {\n",
       "        vertical-align: top;\n",
       "    }\n",
       "\n",
       "    .dataframe thead th {\n",
       "        text-align: right;\n",
       "    }\n",
       "</style>\n",
       "<table border=\"1\" class=\"dataframe\">\n",
       "  <thead>\n",
       "    <tr style=\"text-align: right;\">\n",
       "      <th></th>\n",
       "      <th>meat</th>\n",
       "      <th>grade</th>\n",
       "    </tr>\n",
       "  </thead>\n",
       "  <tbody>\n",
       "    <tr>\n",
       "      <th>0</th>\n",
       "      <td>42.0</td>\n",
       "      <td>90</td>\n",
       "    </tr>\n",
       "    <tr>\n",
       "      <th>1</th>\n",
       "      <td>85.0</td>\n",
       "      <td>83</td>\n",
       "    </tr>\n",
       "    <tr>\n",
       "      <th>2</th>\n",
       "      <td>28.0</td>\n",
       "      <td>83</td>\n",
       "    </tr>\n",
       "    <tr>\n",
       "      <th>3</th>\n",
       "      <td>100.0</td>\n",
       "      <td>80</td>\n",
       "    </tr>\n",
       "    <tr>\n",
       "      <th>4</th>\n",
       "      <td>100.0</td>\n",
       "      <td>75</td>\n",
       "    </tr>\n",
       "  </tbody>\n",
       "</table>\n",
       "</div>"
      ],
      "text/plain": [
       "    meat  grade\n",
       "0   42.0     90\n",
       "1   85.0     83\n",
       "2   28.0     83\n",
       "3  100.0     80\n",
       "4  100.0     75"
      ]
     },
     "execution_count": 9,
     "metadata": {},
     "output_type": "execute_result"
    }
   ],
   "source": [
    "X = df[[\"meat\", \"grade\"]]\n",
    "X.head()"
   ]
  },
  {
   "cell_type": "code",
   "execution_count": 10,
   "metadata": {},
   "outputs": [
    {
     "data": {
      "text/plain": [
       "0    Yes\n",
       "1     No\n",
       "2    Yes\n",
       "3     No\n",
       "4     No\n",
       "Name: cilantro, dtype: object"
      ]
     },
     "execution_count": 10,
     "metadata": {},
     "output_type": "execute_result"
    }
   ],
   "source": [
    "y = df[\"cilantro\"]\n",
    "y.head()"
   ]
  },
  {
   "cell_type": "code",
   "execution_count": 11,
   "metadata": {},
   "outputs": [],
   "source": [
    "dc = DummyClassifier(strategy=\"prior\")"
   ]
  },
  {
   "cell_type": "markdown",
   "metadata": {},
   "source": [
    "- DummyClassifier predicts the most common class"
   ]
  },
  {
   "cell_type": "code",
   "execution_count": 12,
   "metadata": {},
   "outputs": [
    {
     "data": {
      "text/plain": [
       "0.72"
      ]
     },
     "execution_count": 12,
     "metadata": {},
     "output_type": "execute_result"
    }
   ],
   "source": [
    "dc.fit(X, y)\n",
    "dc.score(X, y)"
   ]
  },
  {
   "cell_type": "markdown",
   "metadata": {},
   "source": [
    "- fit() takes the data and does the learning, in this case(DummyClassifier), find the most common class\n",
    "- score() shows how well the DummyClassifier do on our data\n",
    "- 0.72 here means that the DummyClassifier gives a 72% correct prediction"
   ]
  },
  {
   "cell_type": "code",
   "execution_count": 13,
   "metadata": {},
   "outputs": [
    {
     "data": {
      "text/plain": [
       "Yes    0.72\n",
       "No     0.28\n",
       "Name: cilantro, dtype: float64"
      ]
     },
     "execution_count": 13,
     "metadata": {},
     "output_type": "execute_result"
    }
   ],
   "source": [
    "y.value_counts()/len(y)"
   ]
  },
  {
   "cell_type": "markdown",
   "metadata": {},
   "source": [
    "## Decision trees (20 min)\n",
    "\n",
    "- Our first approach to supervised learning: **decision trees**.\n",
    "- Basic idea: ask a bunch of yes/no questions until you end up at a prediction.\n",
    "- E.g. for our cilantro dataset,\n",
    "  - If you eat meat <5% of the time, predict \"Yes\"\n",
    "  - Otherwise, if you eat meat >95% of the time, predict \"No\"\n",
    "  - Otherwise, if you expect to fail the course, predict \"No\"\n",
    "  - Otherwise, predict \"Yes\""
   ]
  },
  {
   "cell_type": "markdown",
   "metadata": {},
   "source": [
    "- This \"series of questions\" approach can be drawn as a tree:\n",
    "\n",
    "```\n",
    "            Eats meat <5% of the time\n",
    "            /          \\\n",
    "           / True       \\  False\n",
    "          /              \\\n",
    "         Yes           Eats meat >95% of the time\n",
    "                        /      \\\n",
    "                  True /        \\ False\n",
    "                      /          \\ \n",
    "                    No         Expects to fail the course (<50%)\n",
    "                                 /           \\\n",
    "                                / True        \\ False\n",
    "                               /               \\\n",
    "                              No              Yes\n",
    "```"
   ]
  },
  {
   "cell_type": "markdown",
   "metadata": {},
   "source": [
    "- The decision tree algorithm automatically learns a tree like this, based on the data set!\n",
    "  - We won't go through **how** it does this - that's CPSC 340.\n",
    "  - But it's worth noting that it support two types of inputs:\n",
    "\n",
    "1. Categorical (e.g., Yes/No or more options)\n",
    "2. Numeric (a number)\n",
    "\n",
    "In the numeric case, the decision tree algorithm also picks the _threshold_ (e.g. 5%, 50%, etc.)\n",
    "\n",
    "In our case here, both features are numeric. (meat & grade)"
   ]
  },
  {
   "cell_type": "markdown",
   "metadata": {},
   "source": [
    "Let's apply a decision tree to our cilantro dataset."
   ]
  },
  {
   "cell_type": "code",
   "execution_count": 14,
   "metadata": {},
   "outputs": [],
   "source": [
    "tree1 = DecisionTreeClassifier(max_depth=1)"
   ]
  },
  {
   "cell_type": "markdown",
   "metadata": {},
   "source": [
    "- Here, we create a `DecisionTreeClassifier` object from scikit-learn.\n",
    "- We pass in parameters - these are called **hyperparameters** - in this case `max_depth=1` which means the tree can only have depth 1. (A question/tree could spread no more than `max_depth` times.)\n",
    "- Next we fit to the data using `.fit()`.\n",
    "- The semicolon is just cosmetic, otherwise some junk gets printed out."
   ]
  },
  {
   "cell_type": "code",
   "execution_count": 15,
   "metadata": {},
   "outputs": [],
   "source": [
    "tree1.fit(X, y);"
   ]
  },
  {
   "cell_type": "code",
   "execution_count": 16,
   "metadata": {},
   "outputs": [
    {
     "data": {
      "image/svg+xml": [
       "<?xml version=\"1.0\" encoding=\"UTF-8\" standalone=\"no\"?>\n",
       "<!DOCTYPE svg PUBLIC \"-//W3C//DTD SVG 1.1//EN\"\n",
       " \"http://www.w3.org/Graphics/SVG/1.1/DTD/svg11.dtd\">\n",
       "<!-- Generated by graphviz version 2.42.3 (20191010.1750)\n",
       " -->\n",
       "<!-- Title: Tree Pages: 1 -->\n",
       "<svg width=\"186pt\" height=\"116pt\"\n",
       " viewBox=\"0.00 0.00 186.00 116.00\" xmlns=\"http://www.w3.org/2000/svg\" xmlns:xlink=\"http://www.w3.org/1999/xlink\">\n",
       "<g id=\"graph0\" class=\"graph\" transform=\"scale(1 1) rotate(0) translate(4 112)\">\n",
       "<title>Tree</title>\n",
       "<polygon fill=\"white\" stroke=\"transparent\" points=\"-4,4 -4,-112 182,-112 182,4 -4,4\"/>\n",
       "<!-- 0 -->\n",
       "<g id=\"node1\" class=\"node\">\n",
       "<title>0</title>\n",
       "<polygon fill=\"none\" stroke=\"black\" points=\"134.5,-108 43.5,-108 43.5,-72 134.5,-72 134.5,-108\"/>\n",
       "<text text-anchor=\"middle\" x=\"89\" y=\"-86.3\" font-family=\"Times,serif\" font-size=\"14.00\">meat &lt;= 99.5</text>\n",
       "</g>\n",
       "<!-- 1 -->\n",
       "<g id=\"node2\" class=\"node\">\n",
       "<title>1</title>\n",
       "<polygon fill=\"none\" stroke=\"black\" points=\"80,-36 0,-36 0,0 80,0 80,-36\"/>\n",
       "<text text-anchor=\"middle\" x=\"40\" y=\"-14.3\" font-family=\"Times,serif\" font-size=\"14.00\">class = Yes</text>\n",
       "</g>\n",
       "<!-- 0&#45;&gt;1 -->\n",
       "<g id=\"edge1\" class=\"edge\">\n",
       "<title>0&#45;&gt;1</title>\n",
       "<path fill=\"none\" stroke=\"black\" d=\"M76.89,-71.7C71.13,-63.47 64.14,-53.48 57.79,-44.42\"/>\n",
       "<polygon fill=\"black\" stroke=\"black\" points=\"60.58,-42.29 51.97,-36.1 54.84,-46.3 60.58,-42.29\"/>\n",
       "<text text-anchor=\"middle\" x=\"47.63\" y=\"-57.02\" font-family=\"Times,serif\" font-size=\"14.00\">True</text>\n",
       "</g>\n",
       "<!-- 2 -->\n",
       "<g id=\"node3\" class=\"node\">\n",
       "<title>2</title>\n",
       "<polygon fill=\"none\" stroke=\"black\" points=\"178,-36 98,-36 98,0 178,0 178,-36\"/>\n",
       "<text text-anchor=\"middle\" x=\"138\" y=\"-14.3\" font-family=\"Times,serif\" font-size=\"14.00\">class = Yes</text>\n",
       "</g>\n",
       "<!-- 0&#45;&gt;2 -->\n",
       "<g id=\"edge2\" class=\"edge\">\n",
       "<title>0&#45;&gt;2</title>\n",
       "<path fill=\"none\" stroke=\"black\" d=\"M101.11,-71.7C106.87,-63.47 113.86,-53.48 120.21,-44.42\"/>\n",
       "<polygon fill=\"black\" stroke=\"black\" points=\"123.16,-46.3 126.03,-36.1 117.42,-42.29 123.16,-46.3\"/>\n",
       "<text text-anchor=\"middle\" x=\"130.37\" y=\"-57.02\" font-family=\"Times,serif\" font-size=\"14.00\">False</text>\n",
       "</g>\n",
       "</g>\n",
       "</svg>\n"
      ],
      "text/plain": [
       "<graphviz.files.Source at 0x7fb577e6eb80>"
      ]
     },
     "execution_count": 16,
     "metadata": {},
     "output_type": "execute_result"
    }
   ],
   "source": [
    "display_tree(df.columns[:-1], tree1)"
   ]
  },
  {
   "cell_type": "markdown",
   "metadata": {},
   "source": [
    "- This is a totally useless decision tree that predicts \"Yes\" for any feature.\n",
    "- This happens sometimes. Let's roll with it for the moment."
   ]
  },
  {
   "cell_type": "code",
   "execution_count": 17,
   "metadata": {},
   "outputs": [
    {
     "data": {
      "image/png": "[encoded data removed]",
      "text/plain": [
       "<Figure size 432x288 with 1 Axes>"
      ]
     },
     "metadata": {
      "needs_background": "light"
     },
     "output_type": "display_data"
    }
   ],
   "source": [
    "plot_classifier(X, y, tree1, ticks=True, vmin=0, vmax=1); # note to self: need to set vmin/vmax to to an issue with plot_classifier that always draws blue if all predictions are the same\n",
    "plt.xlabel(\"Meat consumption (% days)\");\n",
    "plt.ylabel(\"Expected grade (%)\");"
   ]
  },
  {
   "cell_type": "markdown",
   "metadata": {},
   "source": [
    "- The background colour shows our prediction. (\"Yes\" here)\n",
    "- We predict red (likes cilantro) for any features.\n",
    "- We can get an accuracy score using `.score()` from sklearn"
   ]
  },
  {
   "cell_type": "code",
   "execution_count": 18,
   "metadata": {},
   "outputs": [
    {
     "data": {
      "text/plain": [
       "0.72"
      ]
     },
     "execution_count": 18,
     "metadata": {},
     "output_type": "execute_result"
    }
   ],
   "source": [
    "tree1.score(X, y)"
   ]
  },
  {
   "cell_type": "markdown",
   "metadata": {},
   "source": [
    "- This is doing the same thing as `DummyClassifier` so we get the same score.\n",
    "- We can verify this using `.predict()`"
   ]
  },
  {
   "cell_type": "code",
   "execution_count": 19,
   "metadata": {},
   "outputs": [
    {
     "data": {
      "text/plain": [
       "array(['Yes'], dtype=object)"
      ]
     },
     "execution_count": 19,
     "metadata": {},
     "output_type": "execute_result"
    }
   ],
   "source": [
    "tree1.predict([[50, 50]])"
   ]
  },
  {
   "cell_type": "markdown",
   "metadata": {},
   "source": [
    "- A 50% meat eater and 50% course grade is gonna predict Cilantro == 'Yes'"
   ]
  },
  {
   "cell_type": "code",
   "execution_count": 20,
   "metadata": {},
   "outputs": [
    {
     "data": {
      "text/plain": [
       "array(['Yes'], dtype=object)"
      ]
     },
     "execution_count": 20,
     "metadata": {},
     "output_type": "execute_result"
    }
   ],
   "source": [
    "tree1.predict([[99,99]])"
   ]
  },
  {
   "cell_type": "code",
   "execution_count": 21,
   "metadata": {},
   "outputs": [
    {
     "data": {
      "text/plain": [
       "array(['Yes', 'Yes', 'Yes', 'Yes', 'Yes', 'Yes', 'Yes', 'Yes', 'Yes',\n",
       "       'Yes', 'Yes', 'Yes', 'Yes', 'Yes', 'Yes', 'Yes', 'Yes', 'Yes',\n",
       "       'Yes', 'Yes', 'Yes', 'Yes', 'Yes', 'Yes', 'Yes', 'Yes', 'Yes',\n",
       "       'Yes', 'Yes', 'Yes', 'Yes', 'Yes', 'Yes', 'Yes', 'Yes', 'Yes',\n",
       "       'Yes', 'Yes', 'Yes', 'Yes', 'Yes', 'Yes', 'Yes', 'Yes', 'Yes',\n",
       "       'Yes', 'Yes', 'Yes', 'Yes', 'Yes', 'Yes', 'Yes', 'Yes', 'Yes',\n",
       "       'Yes', 'Yes', 'Yes', 'Yes', 'Yes', 'Yes', 'Yes', 'Yes', 'Yes',\n",
       "       'Yes', 'Yes', 'Yes', 'Yes', 'Yes', 'Yes', 'Yes', 'Yes', 'Yes',\n",
       "       'Yes', 'Yes', 'Yes', 'Yes', 'Yes', 'Yes', 'Yes', 'Yes', 'Yes',\n",
       "       'Yes', 'Yes', 'Yes', 'Yes', 'Yes', 'Yes', 'Yes', 'Yes', 'Yes',\n",
       "       'Yes', 'Yes', 'Yes', 'Yes', 'Yes', 'Yes', 'Yes', 'Yes', 'Yes',\n",
       "       'Yes', 'Yes', 'Yes', 'Yes', 'Yes', 'Yes', 'Yes', 'Yes', 'Yes',\n",
       "       'Yes', 'Yes', 'Yes', 'Yes', 'Yes', 'Yes', 'Yes', 'Yes', 'Yes',\n",
       "       'Yes', 'Yes', 'Yes', 'Yes', 'Yes', 'Yes', 'Yes', 'Yes', 'Yes',\n",
       "       'Yes', 'Yes', 'Yes', 'Yes', 'Yes', 'Yes', 'Yes', 'Yes', 'Yes',\n",
       "       'Yes', 'Yes', 'Yes', 'Yes', 'Yes', 'Yes', 'Yes', 'Yes', 'Yes',\n",
       "       'Yes', 'Yes', 'Yes', 'Yes', 'Yes', 'Yes', 'Yes', 'Yes', 'Yes',\n",
       "       'Yes', 'Yes', 'Yes', 'Yes', 'Yes', 'Yes', 'Yes', 'Yes', 'Yes',\n",
       "       'Yes', 'Yes', 'Yes', 'Yes', 'Yes', 'Yes', 'Yes', 'Yes', 'Yes',\n",
       "       'Yes', 'Yes', 'Yes', 'Yes', 'Yes', 'Yes', 'Yes', 'Yes', 'Yes',\n",
       "       'Yes', 'Yes', 'Yes', 'Yes', 'Yes', 'Yes', 'Yes', 'Yes', 'Yes',\n",
       "       'Yes', 'Yes', 'Yes', 'Yes', 'Yes', 'Yes', 'Yes', 'Yes', 'Yes',\n",
       "       'Yes', 'Yes'], dtype=object)"
      ]
     },
     "execution_count": 21,
     "metadata": {},
     "output_type": "execute_result"
    }
   ],
   "source": [
    "tree1.predict(X)"
   ]
  },
  {
   "cell_type": "markdown",
   "metadata": {},
   "source": [
    "- For all the people in the class, or all the data in the data set, gonna predict 'Yes'"
   ]
  },
  {
   "cell_type": "markdown",
   "metadata": {},
   "source": [
    "etc."
   ]
  },
  {
   "cell_type": "markdown",
   "metadata": {},
   "source": [
    "- Let's make the tree deeper by increasing `max_depth`."
   ]
  },
  {
   "cell_type": "code",
   "execution_count": 22,
   "metadata": {},
   "outputs": [],
   "source": [
    "tree2 = DecisionTreeClassifier(max_depth=2)\n",
    "tree2.fit(X, y);"
   ]
  },
  {
   "cell_type": "code",
   "execution_count": 23,
   "metadata": {},
   "outputs": [
    {
     "data": {
      "image/svg+xml": [
       "<?xml version=\"1.0\" encoding=\"UTF-8\" standalone=\"no\"?>\n",
       "<!DOCTYPE svg PUBLIC \"-//W3C//DTD SVG 1.1//EN\"\n",
       " \"http://www.w3.org/Graphics/SVG/1.1/DTD/svg11.dtd\">\n",
       "<!-- Generated by graphviz version 2.42.3 (20191010.1750)\n",
       " -->\n",
       "<!-- Title: Tree Pages: 1 -->\n",
       "<svg width=\"382pt\" height=\"188pt\"\n",
       " viewBox=\"0.00 0.00 382.00 188.00\" xmlns=\"http://www.w3.org/2000/svg\" xmlns:xlink=\"http://www.w3.org/1999/xlink\">\n",
       "<g id=\"graph0\" class=\"graph\" transform=\"scale(1 1) rotate(0) translate(4 184)\">\n",
       "<title>Tree</title>\n",
       "<polygon fill=\"white\" stroke=\"transparent\" points=\"-4,4 -4,-184 378,-184 378,4 -4,4\"/>\n",
       "<!-- 0 -->\n",
       "<g id=\"node1\" class=\"node\">\n",
       "<title>0</title>\n",
       "<polygon fill=\"none\" stroke=\"black\" points=\"230.5,-180 139.5,-180 139.5,-144 230.5,-144 230.5,-180\"/>\n",
       "<text text-anchor=\"middle\" x=\"185\" y=\"-158.3\" font-family=\"Times,serif\" font-size=\"14.00\">meat &lt;= 99.5</text>\n",
       "</g>\n",
       "<!-- 1 -->\n",
       "<g id=\"node2\" class=\"node\">\n",
       "<title>1</title>\n",
       "<polygon fill=\"none\" stroke=\"black\" points=\"176.5,-108 81.5,-108 81.5,-72 176.5,-72 176.5,-108\"/>\n",
       "<text text-anchor=\"middle\" x=\"129\" y=\"-86.3\" font-family=\"Times,serif\" font-size=\"14.00\">grade &lt;= 34.5</text>\n",
       "</g>\n",
       "<!-- 0&#45;&gt;1 -->\n",
       "<g id=\"edge1\" class=\"edge\">\n",
       "<title>0&#45;&gt;1</title>\n",
       "<path fill=\"none\" stroke=\"black\" d=\"M171.16,-143.7C164.51,-135.39 156.42,-125.28 149.11,-116.14\"/>\n",
       "<polygon fill=\"black\" stroke=\"black\" points=\"151.66,-113.73 142.68,-108.1 146.2,-118.1 151.66,-113.73\"/>\n",
       "<text text-anchor=\"middle\" x=\"139.92\" y=\"-129.25\" font-family=\"Times,serif\" font-size=\"14.00\">True</text>\n",
       "</g>\n",
       "<!-- 4 -->\n",
       "<g id=\"node5\" class=\"node\">\n",
       "<title>4</title>\n",
       "<polygon fill=\"none\" stroke=\"black\" points=\"289.5,-108 194.5,-108 194.5,-72 289.5,-72 289.5,-108\"/>\n",
       "<text text-anchor=\"middle\" x=\"242\" y=\"-86.3\" font-family=\"Times,serif\" font-size=\"14.00\">grade &lt;= 69.5</text>\n",
       "</g>\n",
       "<!-- 0&#45;&gt;4 -->\n",
       "<g id=\"edge4\" class=\"edge\">\n",
       "<title>0&#45;&gt;4</title>\n",
       "<path fill=\"none\" stroke=\"black\" d=\"M199.09,-143.7C205.92,-135.3 214.26,-125.07 221.76,-115.86\"/>\n",
       "<polygon fill=\"black\" stroke=\"black\" points=\"224.47,-118.07 228.07,-108.1 219.04,-113.65 224.47,-118.07\"/>\n",
       "<text text-anchor=\"middle\" x=\"230.62\" y=\"-129.27\" font-family=\"Times,serif\" font-size=\"14.00\">False</text>\n",
       "</g>\n",
       "<!-- 2 -->\n",
       "<g id=\"node3\" class=\"node\">\n",
       "<title>2</title>\n",
       "<polygon fill=\"none\" stroke=\"black\" points=\"76,-36 0,-36 0,0 76,0 76,-36\"/>\n",
       "<text text-anchor=\"middle\" x=\"38\" y=\"-14.3\" font-family=\"Times,serif\" font-size=\"14.00\">class = No</text>\n",
       "</g>\n",
       "<!-- 1&#45;&gt;2 -->\n",
       "<g id=\"edge2\" class=\"edge\">\n",
       "<title>1&#45;&gt;2</title>\n",
       "<path fill=\"none\" stroke=\"black\" d=\"M106.51,-71.7C95.04,-62.88 80.94,-52.03 68.52,-42.47\"/>\n",
       "<polygon fill=\"black\" stroke=\"black\" points=\"70.3,-39.43 60.24,-36.1 66.03,-44.98 70.3,-39.43\"/>\n",
       "</g>\n",
       "<!-- 3 -->\n",
       "<g id=\"node4\" class=\"node\">\n",
       "<title>3</title>\n",
       "<polygon fill=\"none\" stroke=\"black\" points=\"174,-36 94,-36 94,0 174,0 174,-36\"/>\n",
       "<text text-anchor=\"middle\" x=\"134\" y=\"-14.3\" font-family=\"Times,serif\" font-size=\"14.00\">class = Yes</text>\n",
       "</g>\n",
       "<!-- 1&#45;&gt;3 -->\n",
       "<g id=\"edge3\" class=\"edge\">\n",
       "<title>1&#45;&gt;3</title>\n",
       "<path fill=\"none\" stroke=\"black\" d=\"M130.24,-71.7C130.79,-63.98 131.45,-54.71 132.06,-46.11\"/>\n",
       "<polygon fill=\"black\" stroke=\"black\" points=\"135.56,-46.33 132.78,-36.1 128.57,-45.83 135.56,-46.33\"/>\n",
       "</g>\n",
       "<!-- 5 -->\n",
       "<g id=\"node6\" class=\"node\">\n",
       "<title>5</title>\n",
       "<polygon fill=\"none\" stroke=\"black\" points=\"276,-36 200,-36 200,0 276,0 276,-36\"/>\n",
       "<text text-anchor=\"middle\" x=\"238\" y=\"-14.3\" font-family=\"Times,serif\" font-size=\"14.00\">class = No</text>\n",
       "</g>\n",
       "<!-- 4&#45;&gt;5 -->\n",
       "<g id=\"edge5\" class=\"edge\">\n",
       "<title>4&#45;&gt;5</title>\n",
       "<path fill=\"none\" stroke=\"black\" d=\"M241.01,-71.7C240.57,-63.98 240.04,-54.71 239.55,-46.11\"/>\n",
       "<polygon fill=\"black\" stroke=\"black\" points=\"243.04,-45.89 238.98,-36.1 236.05,-46.29 243.04,-45.89\"/>\n",
       "</g>\n",
       "<!-- 6 -->\n",
       "<g id=\"node7\" class=\"node\">\n",
       "<title>6</title>\n",
       "<polygon fill=\"none\" stroke=\"black\" points=\"374,-36 294,-36 294,0 374,0 374,-36\"/>\n",
       "<text text-anchor=\"middle\" x=\"334\" y=\"-14.3\" font-family=\"Times,serif\" font-size=\"14.00\">class = Yes</text>\n",
       "</g>\n",
       "<!-- 4&#45;&gt;6 -->\n",
       "<g id=\"edge6\" class=\"edge\">\n",
       "<title>4&#45;&gt;6</title>\n",
       "<path fill=\"none\" stroke=\"black\" d=\"M264.74,-71.7C276.44,-62.8 290.86,-51.82 303.51,-42.2\"/>\n",
       "<polygon fill=\"black\" stroke=\"black\" points=\"305.68,-44.94 311.52,-36.1 301.44,-39.37 305.68,-44.94\"/>\n",
       "</g>\n",
       "</g>\n",
       "</svg>\n"
      ],
      "text/plain": [
       "<graphviz.files.Source at 0x7fb577e6e580>"
      ]
     },
     "execution_count": 23,
     "metadata": {},
     "output_type": "execute_result"
    }
   ],
   "source": [
    "display_tree(df.columns[:-1], tree2)"
   ]
  },
  {
   "cell_type": "markdown",
   "metadata": {},
   "source": [
    "- df.columns[:-1] means escape the last column, here means that only get 'meat' and 'grade' columns"
   ]
  },
  {
   "cell_type": "code",
   "execution_count": 24,
   "metadata": {},
   "outputs": [
    {
     "data": {
      "image/png": "[encoded data removed]",
      "text/plain": [
       "<Figure size 432x288 with 1 Axes>"
      ]
     },
     "metadata": {
      "needs_background": "light"
     },
     "output_type": "display_data"
    }
   ],
   "source": [
    "plot_classifier(X, y, tree2, ticks=True, show_data=True);\n",
    "plt.xlabel(\"Meat consumption (% days)\");\n",
    "plt.ylabel(\"Expected grade (%)\");"
   ]
  },
  {
   "cell_type": "markdown",
   "metadata": {},
   "source": [
    "- Let's take a moment to make sure we can correspond the tree diagram to this diagram - they are saying the same thing."
   ]
  },
  {
   "cell_type": "code",
   "execution_count": 25,
   "metadata": {},
   "outputs": [
    {
     "data": {
      "text/plain": [
       "0.73"
      ]
     },
     "execution_count": 25,
     "metadata": {},
     "output_type": "execute_result"
    }
   ],
   "source": [
    "tree2.score(X, y)"
   ]
  },
  {
   "cell_type": "markdown",
   "metadata": {},
   "source": [
    "- By the way, what does `.score()` do?\n",
    "- It calls `predict` and then compares the predictions to the true labels."
   ]
  },
  {
   "cell_type": "code",
   "execution_count": 26,
   "metadata": {},
   "outputs": [
    {
     "data": {
      "text/plain": [
       "0.73"
      ]
     },
     "execution_count": 26,
     "metadata": {},
     "output_type": "execute_result"
    }
   ],
   "source": [
    "(tree2.predict(X) == y).sum()/len(y)"
   ]
  },
  {
   "cell_type": "markdown",
   "metadata": {},
   "source": [
    "Or, equivalently,"
   ]
  },
  {
   "cell_type": "code",
   "execution_count": 27,
   "metadata": {},
   "outputs": [
    {
     "data": {
      "text/plain": [
       "0.73"
      ]
     },
     "execution_count": 27,
     "metadata": {},
     "output_type": "execute_result"
    }
   ],
   "source": [
    "(tree2.predict(X) == y).mean()"
   ]
  },
  {
   "cell_type": "code",
   "execution_count": 28,
   "metadata": {},
   "outputs": [
    {
     "data": {
      "text/plain": [
       "0      Yes\n",
       "1       No\n",
       "2      Yes\n",
       "3       No\n",
       "4       No\n",
       "      ... \n",
       "195    Yes\n",
       "196    Yes\n",
       "197    Yes\n",
       "198    Yes\n",
       "199    Yes\n",
       "Name: cilantro, Length: 200, dtype: object"
      ]
     },
     "execution_count": 28,
     "metadata": {},
     "output_type": "execute_result"
    }
   ],
   "source": [
    "y"
   ]
  },
  {
   "cell_type": "markdown",
   "metadata": {},
   "source": [
    "Moving on to `max_depth=None`, which lets it grow the tree as much as it wants."
   ]
  },
  {
   "cell_type": "code",
   "execution_count": 29,
   "metadata": {},
   "outputs": [],
   "source": [
    "tree = DecisionTreeClassifier(max_depth=None)\n",
    "tree.fit(X, y);"
   ]
  },
  {
   "cell_type": "code",
   "execution_count": 30,
   "metadata": {},
   "outputs": [
    {
     "data": {
      "text/plain": [
       "array(['Yes'], dtype=object)"
      ]
     },
     "execution_count": 30,
     "metadata": {},
     "output_type": "execute_result"
    }
   ],
   "source": [
    "tree.predict([[90, 90]])"
   ]
  },
  {
   "cell_type": "code",
   "execution_count": 31,
   "metadata": {},
   "outputs": [
    {
     "data": {
      "image/svg+xml": [
       "<?xml version=\"1.0\" encoding=\"UTF-8\" standalone=\"no\"?>\n",
       "<!DOCTYPE svg PUBLIC \"-//W3C//DTD SVG 1.1//EN\"\n",
       " \"http://www.w3.org/Graphics/SVG/1.1/DTD/svg11.dtd\">\n",
       "<!-- Generated by graphviz version 2.42.3 (20191010.1750)\n",
       " -->\n",
       "<!-- Title: Tree Pages: 1 -->\n",
       "<svg width=\"2592pt\" height=\"980pt\"\n",
       " viewBox=\"0.00 0.00 2592.00 980.00\" xmlns=\"http://www.w3.org/2000/svg\" xmlns:xlink=\"http://www.w3.org/1999/xlink\">\n",
       "<g id=\"graph0\" class=\"graph\" transform=\"scale(1 1) rotate(0) translate(4 976)\">\n",
       "<title>Tree</title>\n",
       "<polygon fill=\"white\" stroke=\"transparent\" points=\"-4,4 -4,-976 2588,-976 2588,4 -4,4\"/>\n",
       "<!-- 0 -->\n",
       "<g id=\"node1\" class=\"node\">\n",
       "<title>0</title>\n",
       "<polygon fill=\"none\" stroke=\"black\" points=\"1847.5,-972 1756.5,-972 1756.5,-936 1847.5,-936 1847.5,-972\"/>\n",
       "<text text-anchor=\"middle\" x=\"1802\" y=\"-950.3\" font-family=\"Times,serif\" font-size=\"14.00\">meat &lt;= 99.5</text>\n",
       "</g>\n",
       "<!-- 1 -->\n",
       "<g id=\"node2\" class=\"node\">\n",
       "<title>1</title>\n",
       "<polygon fill=\"none\" stroke=\"black\" points=\"1793.5,-900 1698.5,-900 1698.5,-864 1793.5,-864 1793.5,-900\"/>\n",
       "<text text-anchor=\"middle\" x=\"1746\" y=\"-878.3\" font-family=\"Times,serif\" font-size=\"14.00\">grade &lt;= 34.5</text>\n",
       "</g>\n",
       "<!-- 0&#45;&gt;1 -->\n",
       "<g id=\"edge1\" class=\"edge\">\n",
       "<title>0&#45;&gt;1</title>\n",
       "<path fill=\"none\" stroke=\"black\" d=\"M1788.16,-935.7C1781.51,-927.39 1773.42,-917.28 1766.11,-908.14\"/>\n",
       "<polygon fill=\"black\" stroke=\"black\" points=\"1768.66,-905.73 1759.68,-900.1 1763.2,-910.1 1768.66,-905.73\"/>\n",
       "<text text-anchor=\"middle\" x=\"1756.92\" y=\"-921.25\" font-family=\"Times,serif\" font-size=\"14.00\">True</text>\n",
       "</g>\n",
       "<!-- 88 -->\n",
       "<g id=\"node89\" class=\"node\">\n",
       "<title>88</title>\n",
       "<polygon fill=\"none\" stroke=\"black\" points=\"2006.5,-900 1911.5,-900 1911.5,-864 2006.5,-864 2006.5,-900\"/>\n",
       "<text text-anchor=\"middle\" x=\"1959\" y=\"-878.3\" font-family=\"Times,serif\" font-size=\"14.00\">grade &lt;= 69.5</text>\n",
       "</g>\n",
       "<!-- 0&#45;&gt;88 -->\n",
       "<g id=\"edge88\" class=\"edge\">\n",
       "<title>0&#45;&gt;88</title>\n",
       "<path fill=\"none\" stroke=\"black\" d=\"M1840.41,-935.88C1861.87,-926.31 1888.8,-914.3 1911.57,-904.15\"/>\n",
       "<polygon fill=\"black\" stroke=\"black\" points=\"1913.01,-907.34 1920.72,-900.07 1910.16,-900.94 1913.01,-907.34\"/>\n",
       "<text text-anchor=\"middle\" x=\"1911.77\" y=\"-919.71\" font-family=\"Times,serif\" font-size=\"14.00\">False</text>\n",
       "</g>\n",
       "<!-- 2 -->\n",
       "<g id=\"node3\" class=\"node\">\n",
       "<title>2</title>\n",
       "<polygon fill=\"none\" stroke=\"black\" points=\"1680,-828 1604,-828 1604,-792 1680,-792 1680,-828\"/>\n",
       "<text text-anchor=\"middle\" x=\"1642\" y=\"-806.3\" font-family=\"Times,serif\" font-size=\"14.00\">class = No</text>\n",
       "</g>\n",
       "<!-- 1&#45;&gt;2 -->\n",
       "<g id=\"edge2\" class=\"edge\">\n",
       "<title>1&#45;&gt;2</title>\n",
       "<path fill=\"none\" stroke=\"black\" d=\"M1720.56,-863.88C1707.21,-854.89 1690.68,-843.76 1676.22,-834.03\"/>\n",
       "<polygon fill=\"black\" stroke=\"black\" points=\"1677.79,-830.87 1667.54,-828.19 1673.88,-836.68 1677.79,-830.87\"/>\n",
       "</g>\n",
       "<!-- 3 -->\n",
       "<g id=\"node4\" class=\"node\">\n",
       "<title>3</title>\n",
       "<polygon fill=\"none\" stroke=\"black\" points=\"1793.5,-828 1698.5,-828 1698.5,-792 1793.5,-792 1793.5,-828\"/>\n",
       "<text text-anchor=\"middle\" x=\"1746\" y=\"-806.3\" font-family=\"Times,serif\" font-size=\"14.00\">grade &lt;= 87.5</text>\n",
       "</g>\n",
       "<!-- 1&#45;&gt;3 -->\n",
       "<g id=\"edge3\" class=\"edge\">\n",
       "<title>1&#45;&gt;3</title>\n",
       "<path fill=\"none\" stroke=\"black\" d=\"M1746,-863.7C1746,-855.98 1746,-846.71 1746,-838.11\"/>\n",
       "<polygon fill=\"black\" stroke=\"black\" points=\"1749.5,-838.1 1746,-828.1 1742.5,-838.1 1749.5,-838.1\"/>\n",
       "</g>\n",
       "<!-- 4 -->\n",
       "<g id=\"node5\" class=\"node\">\n",
       "<title>4</title>\n",
       "<polygon fill=\"none\" stroke=\"black\" points=\"1627.5,-756 1532.5,-756 1532.5,-720 1627.5,-720 1627.5,-756\"/>\n",
       "<text text-anchor=\"middle\" x=\"1580\" y=\"-734.3\" font-family=\"Times,serif\" font-size=\"14.00\">grade &lt;= 86.5</text>\n",
       "</g>\n",
       "<!-- 3&#45;&gt;4 -->\n",
       "<g id=\"edge4\" class=\"edge\">\n",
       "<title>3&#45;&gt;4</title>\n",
       "<path fill=\"none\" stroke=\"black\" d=\"M1705.39,-791.88C1682.6,-782.26 1653.97,-770.19 1629.83,-760.01\"/>\n",
       "<polygon fill=\"black\" stroke=\"black\" points=\"1631.05,-756.73 1620.48,-756.07 1628.33,-763.18 1631.05,-756.73\"/>\n",
       "</g>\n",
       "<!-- 73 -->\n",
       "<g id=\"node74\" class=\"node\">\n",
       "<title>73</title>\n",
       "<polygon fill=\"none\" stroke=\"black\" points=\"1791.5,-756 1700.5,-756 1700.5,-720 1791.5,-720 1791.5,-756\"/>\n",
       "<text text-anchor=\"middle\" x=\"1746\" y=\"-734.3\" font-family=\"Times,serif\" font-size=\"14.00\">meat &lt;= 70.5</text>\n",
       "</g>\n",
       "<!-- 3&#45;&gt;73 -->\n",
       "<g id=\"edge73\" class=\"edge\">\n",
       "<title>3&#45;&gt;73</title>\n",
       "<path fill=\"none\" stroke=\"black\" d=\"M1746,-791.7C1746,-783.98 1746,-774.71 1746,-766.11\"/>\n",
       "<polygon fill=\"black\" stroke=\"black\" points=\"1749.5,-766.1 1746,-756.1 1742.5,-766.1 1749.5,-766.1\"/>\n",
       "</g>\n",
       "<!-- 5 -->\n",
       "<g id=\"node6\" class=\"node\">\n",
       "<title>5</title>\n",
       "<polygon fill=\"none\" stroke=\"black\" points=\"1478.5,-684 1387.5,-684 1387.5,-648 1478.5,-648 1478.5,-684\"/>\n",
       "<text text-anchor=\"middle\" x=\"1433\" y=\"-662.3\" font-family=\"Times,serif\" font-size=\"14.00\">meat &lt;= 73.0</text>\n",
       "</g>\n",
       "<!-- 4&#45;&gt;5 -->\n",
       "<g id=\"edge5\" class=\"edge\">\n",
       "<title>4&#45;&gt;5</title>\n",
       "<path fill=\"none\" stroke=\"black\" d=\"M1544.04,-719.88C1524.12,-710.39 1499.18,-698.51 1477.98,-688.42\"/>\n",
       "<polygon fill=\"black\" stroke=\"black\" points=\"1479.38,-685.21 1468.84,-684.07 1476.37,-691.53 1479.38,-685.21\"/>\n",
       "</g>\n",
       "<!-- 72 -->\n",
       "<g id=\"node73\" class=\"node\">\n",
       "<title>72</title>\n",
       "<polygon fill=\"none\" stroke=\"black\" points=\"1618,-684 1542,-684 1542,-648 1618,-648 1618,-684\"/>\n",
       "<text text-anchor=\"middle\" x=\"1580\" y=\"-662.3\" font-family=\"Times,serif\" font-size=\"14.00\">class = No</text>\n",
       "</g>\n",
       "<!-- 4&#45;&gt;72 -->\n",
       "<g id=\"edge72\" class=\"edge\">\n",
       "<title>4&#45;&gt;72</title>\n",
       "<path fill=\"none\" stroke=\"black\" d=\"M1580,-719.7C1580,-711.98 1580,-702.71 1580,-694.11\"/>\n",
       "<polygon fill=\"black\" stroke=\"black\" points=\"1583.5,-694.1 1580,-684.1 1576.5,-694.1 1583.5,-694.1\"/>\n",
       "</g>\n",
       "<!-- 6 -->\n",
       "<g id=\"node7\" class=\"node\">\n",
       "<title>6</title>\n",
       "<polygon fill=\"none\" stroke=\"black\" points=\"805.5,-612 714.5,-612 714.5,-576 805.5,-576 805.5,-612\"/>\n",
       "<text text-anchor=\"middle\" x=\"760\" y=\"-590.3\" font-family=\"Times,serif\" font-size=\"14.00\">meat &lt;= 46.5</text>\n",
       "</g>\n",
       "<!-- 5&#45;&gt;6 -->\n",
       "<g id=\"edge6\" class=\"edge\">\n",
       "<title>5&#45;&gt;6</title>\n",
       "<path fill=\"none\" stroke=\"black\" d=\"M1387.27,-660.24C1267.73,-647.81 946.2,-614.37 815.95,-600.82\"/>\n",
       "<polygon fill=\"black\" stroke=\"black\" points=\"816.1,-597.32 805.79,-599.76 815.38,-604.28 816.1,-597.32\"/>\n",
       "</g>\n",
       "<!-- 59 -->\n",
       "<g id=\"node60\" class=\"node\">\n",
       "<title>59</title>\n",
       "<polygon fill=\"none\" stroke=\"black\" points=\"1480.5,-612 1385.5,-612 1385.5,-576 1480.5,-576 1480.5,-612\"/>\n",
       "<text text-anchor=\"middle\" x=\"1433\" y=\"-590.3\" font-family=\"Times,serif\" font-size=\"14.00\">grade &lt;= 84.0</text>\n",
       "</g>\n",
       "<!-- 5&#45;&gt;59 -->\n",
       "<g id=\"edge59\" class=\"edge\">\n",
       "<title>5&#45;&gt;59</title>\n",
       "<path fill=\"none\" stroke=\"black\" d=\"M1433,-647.7C1433,-639.98 1433,-630.71 1433,-622.11\"/>\n",
       "<polygon fill=\"black\" stroke=\"black\" points=\"1436.5,-622.1 1433,-612.1 1429.5,-622.1 1436.5,-622.1\"/>\n",
       "</g>\n",
       "<!-- 7 -->\n",
       "<g id=\"node8\" class=\"node\">\n",
       "<title>7</title>\n",
       "<polygon fill=\"none\" stroke=\"black\" points=\"352.5,-540 257.5,-540 257.5,-504 352.5,-504 352.5,-540\"/>\n",
       "<text text-anchor=\"middle\" x=\"305\" y=\"-518.3\" font-family=\"Times,serif\" font-size=\"14.00\">grade &lt;= 81.0</text>\n",
       "</g>\n",
       "<!-- 6&#45;&gt;7 -->\n",
       "<g id=\"edge7\" class=\"edge\">\n",
       "<title>6&#45;&gt;7</title>\n",
       "<path fill=\"none\" stroke=\"black\" d=\"M714.29,-585.97C630.88,-573.14 454.18,-545.95 362.65,-531.87\"/>\n",
       "<polygon fill=\"black\" stroke=\"black\" points=\"363.14,-528.4 352.73,-530.34 362.08,-535.32 363.14,-528.4\"/>\n",
       "</g>\n",
       "<!-- 28 -->\n",
       "<g id=\"node29\" class=\"node\">\n",
       "<title>28</title>\n",
       "<polygon fill=\"none\" stroke=\"black\" points=\"807.5,-540 712.5,-540 712.5,-504 807.5,-504 807.5,-540\"/>\n",
       "<text text-anchor=\"middle\" x=\"760\" y=\"-518.3\" font-family=\"Times,serif\" font-size=\"14.00\">grade &lt;= 77.5</text>\n",
       "</g>\n",
       "<!-- 6&#45;&gt;28 -->\n",
       "<g id=\"edge28\" class=\"edge\">\n",
       "<title>6&#45;&gt;28</title>\n",
       "<path fill=\"none\" stroke=\"black\" d=\"M760,-575.7C760,-567.98 760,-558.71 760,-550.11\"/>\n",
       "<polygon fill=\"black\" stroke=\"black\" points=\"763.5,-550.1 760,-540.1 756.5,-550.1 763.5,-550.1\"/>\n",
       "</g>\n",
       "<!-- 8 -->\n",
       "<g id=\"node9\" class=\"node\">\n",
       "<title>8</title>\n",
       "<polygon fill=\"none\" stroke=\"black\" points=\"194.5,-468 99.5,-468 99.5,-432 194.5,-432 194.5,-468\"/>\n",
       "<text text-anchor=\"middle\" x=\"147\" y=\"-446.3\" font-family=\"Times,serif\" font-size=\"14.00\">grade &lt;= 78.0</text>\n",
       "</g>\n",
       "<!-- 7&#45;&gt;8 -->\n",
       "<g id=\"edge8\" class=\"edge\">\n",
       "<title>7&#45;&gt;8</title>\n",
       "<path fill=\"none\" stroke=\"black\" d=\"M266.35,-503.88C244.75,-494.31 217.65,-482.3 194.73,-472.15\"/>\n",
       "<polygon fill=\"black\" stroke=\"black\" points=\"196.09,-468.92 185.53,-468.07 193.25,-475.32 196.09,-468.92\"/>\n",
       "</g>\n",
       "<!-- 15 -->\n",
       "<g id=\"node16\" class=\"node\">\n",
       "<title>15</title>\n",
       "<polygon fill=\"none\" stroke=\"black\" points=\"352.5,-468 257.5,-468 257.5,-432 352.5,-432 352.5,-468\"/>\n",
       "<text text-anchor=\"middle\" x=\"305\" y=\"-446.3\" font-family=\"Times,serif\" font-size=\"14.00\">grade &lt;= 82.5</text>\n",
       "</g>\n",
       "<!-- 7&#45;&gt;15 -->\n",
       "<g id=\"edge15\" class=\"edge\">\n",
       "<title>7&#45;&gt;15</title>\n",
       "<path fill=\"none\" stroke=\"black\" d=\"M305,-503.7C305,-495.98 305,-486.71 305,-478.11\"/>\n",
       "<polygon fill=\"black\" stroke=\"black\" points=\"308.5,-478.1 305,-468.1 301.5,-478.1 308.5,-478.1\"/>\n",
       "</g>\n",
       "<!-- 9 -->\n",
       "<g id=\"node10\" class=\"node\">\n",
       "<title>9</title>\n",
       "<polygon fill=\"none\" stroke=\"black\" points=\"83,-396 3,-396 3,-360 83,-360 83,-396\"/>\n",
       "<text text-anchor=\"middle\" x=\"43\" y=\"-374.3\" font-family=\"Times,serif\" font-size=\"14.00\">class = Yes</text>\n",
       "</g>\n",
       "<!-- 8&#45;&gt;9 -->\n",
       "<g id=\"edge9\" class=\"edge\">\n",
       "<title>8&#45;&gt;9</title>\n",
       "<path fill=\"none\" stroke=\"black\" d=\"M121.56,-431.88C108.21,-422.89 91.68,-411.76 77.22,-402.03\"/>\n",
       "<polygon fill=\"black\" stroke=\"black\" points=\"78.79,-398.87 68.54,-396.19 74.88,-404.68 78.79,-398.87\"/>\n",
       "</g>\n",
       "<!-- 10 -->\n",
       "<g id=\"node11\" class=\"node\">\n",
       "<title>10</title>\n",
       "<polygon fill=\"none\" stroke=\"black\" points=\"192.5,-396 101.5,-396 101.5,-360 192.5,-360 192.5,-396\"/>\n",
       "<text text-anchor=\"middle\" x=\"147\" y=\"-374.3\" font-family=\"Times,serif\" font-size=\"14.00\">meat &lt;= 7.14</text>\n",
       "</g>\n",
       "<!-- 8&#45;&gt;10 -->\n",
       "<g id=\"edge10\" class=\"edge\">\n",
       "<title>8&#45;&gt;10</title>\n",
       "<path fill=\"none\" stroke=\"black\" d=\"M147,-431.7C147,-423.98 147,-414.71 147,-406.11\"/>\n",
       "<polygon fill=\"black\" stroke=\"black\" points=\"150.5,-406.1 147,-396.1 143.5,-406.1 150.5,-406.1\"/>\n",
       "</g>\n",
       "<!-- 11 -->\n",
       "<g id=\"node12\" class=\"node\">\n",
       "<title>11</title>\n",
       "<polygon fill=\"none\" stroke=\"black\" points=\"80,-324 0,-324 0,-288 80,-288 80,-324\"/>\n",
       "<text text-anchor=\"middle\" x=\"40\" y=\"-302.3\" font-family=\"Times,serif\" font-size=\"14.00\">class = Yes</text>\n",
       "</g>\n",
       "<!-- 10&#45;&gt;11 -->\n",
       "<g id=\"edge11\" class=\"edge\">\n",
       "<title>10&#45;&gt;11</title>\n",
       "<path fill=\"none\" stroke=\"black\" d=\"M120.82,-359.88C106.96,-350.81 89.76,-339.55 74.79,-329.76\"/>\n",
       "<polygon fill=\"black\" stroke=\"black\" points=\"76.56,-326.74 66.28,-324.19 72.73,-332.59 76.56,-326.74\"/>\n",
       "</g>\n",
       "<!-- 12 -->\n",
       "<g id=\"node13\" class=\"node\">\n",
       "<title>12</title>\n",
       "<polygon fill=\"none\" stroke=\"black\" points=\"196,-324 98,-324 98,-288 196,-288 196,-324\"/>\n",
       "<text text-anchor=\"middle\" x=\"147\" y=\"-302.3\" font-family=\"Times,serif\" font-size=\"14.00\">meat &lt;= 14.14</text>\n",
       "</g>\n",
       "<!-- 10&#45;&gt;12 -->\n",
       "<g id=\"edge12\" class=\"edge\">\n",
       "<title>10&#45;&gt;12</title>\n",
       "<path fill=\"none\" stroke=\"black\" d=\"M147,-359.7C147,-351.98 147,-342.71 147,-334.11\"/>\n",
       "<polygon fill=\"black\" stroke=\"black\" points=\"150.5,-334.1 147,-324.1 143.5,-334.1 150.5,-334.1\"/>\n",
       "</g>\n",
       "<!-- 13 -->\n",
       "<g id=\"node14\" class=\"node\">\n",
       "<title>13</title>\n",
       "<polygon fill=\"none\" stroke=\"black\" points=\"89,-252 13,-252 13,-216 89,-216 89,-252\"/>\n",
       "<text text-anchor=\"middle\" x=\"51\" y=\"-230.3\" font-family=\"Times,serif\" font-size=\"14.00\">class = No</text>\n",
       "</g>\n",
       "<!-- 12&#45;&gt;13 -->\n",
       "<g id=\"edge13\" class=\"edge\">\n",
       "<title>12&#45;&gt;13</title>\n",
       "<path fill=\"none\" stroke=\"black\" d=\"M123.27,-287.7C111.06,-278.8 96.01,-267.82 82.82,-258.2\"/>\n",
       "<polygon fill=\"black\" stroke=\"black\" points=\"84.6,-255.17 74.46,-252.1 80.48,-260.82 84.6,-255.17\"/>\n",
       "</g>\n",
       "<!-- 14 -->\n",
       "<g id=\"node15\" class=\"node\">\n",
       "<title>14</title>\n",
       "<polygon fill=\"none\" stroke=\"black\" points=\"187,-252 107,-252 107,-216 187,-216 187,-252\"/>\n",
       "<text text-anchor=\"middle\" x=\"147\" y=\"-230.3\" font-family=\"Times,serif\" font-size=\"14.00\">class = Yes</text>\n",
       "</g>\n",
       "<!-- 12&#45;&gt;14 -->\n",
       "<g id=\"edge14\" class=\"edge\">\n",
       "<title>12&#45;&gt;14</title>\n",
       "<path fill=\"none\" stroke=\"black\" d=\"M147,-287.7C147,-279.98 147,-270.71 147,-262.11\"/>\n",
       "<polygon fill=\"black\" stroke=\"black\" points=\"150.5,-262.1 147,-252.1 143.5,-262.1 150.5,-262.1\"/>\n",
       "</g>\n",
       "<!-- 16 -->\n",
       "<g id=\"node17\" class=\"node\">\n",
       "<title>16</title>\n",
       "<polygon fill=\"none\" stroke=\"black\" points=\"292,-396 216,-396 216,-360 292,-360 292,-396\"/>\n",
       "<text text-anchor=\"middle\" x=\"254\" y=\"-374.3\" font-family=\"Times,serif\" font-size=\"14.00\">class = No</text>\n",
       "</g>\n",
       "<!-- 15&#45;&gt;16 -->\n",
       "<g id=\"edge16\" class=\"edge\">\n",
       "<title>15&#45;&gt;16</title>\n",
       "<path fill=\"none\" stroke=\"black\" d=\"M292.39,-431.7C286.4,-423.47 279.12,-413.48 272.52,-404.42\"/>\n",
       "<polygon fill=\"black\" stroke=\"black\" points=\"275.18,-402.13 266.46,-396.1 269.52,-406.25 275.18,-402.13\"/>\n",
       "</g>\n",
       "<!-- 17 -->\n",
       "<g id=\"node18\" class=\"node\">\n",
       "<title>17</title>\n",
       "<polygon fill=\"none\" stroke=\"black\" points=\"401.5,-396 310.5,-396 310.5,-360 401.5,-360 401.5,-396\"/>\n",
       "<text text-anchor=\"middle\" x=\"356\" y=\"-374.3\" font-family=\"Times,serif\" font-size=\"14.00\">meat &lt;= 21.5</text>\n",
       "</g>\n",
       "<!-- 15&#45;&gt;17 -->\n",
       "<g id=\"edge17\" class=\"edge\">\n",
       "<title>15&#45;&gt;17</title>\n",
       "<path fill=\"none\" stroke=\"black\" d=\"M317.61,-431.7C323.6,-423.47 330.88,-413.48 337.48,-404.42\"/>\n",
       "<polygon fill=\"black\" stroke=\"black\" points=\"340.48,-406.25 343.54,-396.1 334.82,-402.13 340.48,-406.25\"/>\n",
       "</g>\n",
       "<!-- 18 -->\n",
       "<g id=\"node19\" class=\"node\">\n",
       "<title>18</title>\n",
       "<polygon fill=\"none\" stroke=\"black\" points=\"297,-324 217,-324 217,-288 297,-288 297,-324\"/>\n",
       "<text text-anchor=\"middle\" x=\"257\" y=\"-302.3\" font-family=\"Times,serif\" font-size=\"14.00\">class = Yes</text>\n",
       "</g>\n",
       "<!-- 17&#45;&gt;18 -->\n",
       "<g id=\"edge18\" class=\"edge\">\n",
       "<title>17&#45;&gt;18</title>\n",
       "<path fill=\"none\" stroke=\"black\" d=\"M331.78,-359.88C319.08,-350.89 303.34,-339.76 289.58,-330.03\"/>\n",
       "<polygon fill=\"black\" stroke=\"black\" points=\"291.5,-327.11 281.31,-324.19 287.46,-332.82 291.5,-327.11\"/>\n",
       "</g>\n",
       "<!-- 19 -->\n",
       "<g id=\"node20\" class=\"node\">\n",
       "<title>19</title>\n",
       "<polygon fill=\"none\" stroke=\"black\" points=\"406.5,-324 315.5,-324 315.5,-288 406.5,-288 406.5,-324\"/>\n",
       "<text text-anchor=\"middle\" x=\"361\" y=\"-302.3\" font-family=\"Times,serif\" font-size=\"14.00\">meat &lt;= 29.0</text>\n",
       "</g>\n",
       "<!-- 17&#45;&gt;19 -->\n",
       "<g id=\"edge19\" class=\"edge\">\n",
       "<title>17&#45;&gt;19</title>\n",
       "<path fill=\"none\" stroke=\"black\" d=\"M357.24,-359.7C357.79,-351.98 358.45,-342.71 359.06,-334.11\"/>\n",
       "<polygon fill=\"black\" stroke=\"black\" points=\"362.56,-334.33 359.78,-324.1 355.57,-333.83 362.56,-334.33\"/>\n",
       "</g>\n",
       "<!-- 20 -->\n",
       "<g id=\"node21\" class=\"node\">\n",
       "<title>20</title>\n",
       "<polygon fill=\"none\" stroke=\"black\" points=\"300.5,-252 205.5,-252 205.5,-216 300.5,-216 300.5,-252\"/>\n",
       "<text text-anchor=\"middle\" x=\"253\" y=\"-230.3\" font-family=\"Times,serif\" font-size=\"14.00\">grade &lt;= 84.0</text>\n",
       "</g>\n",
       "<!-- 19&#45;&gt;20 -->\n",
       "<g id=\"edge20\" class=\"edge\">\n",
       "<title>19&#45;&gt;20</title>\n",
       "<path fill=\"none\" stroke=\"black\" d=\"M334.58,-287.88C320.59,-278.81 303.22,-267.55 288.11,-257.76\"/>\n",
       "<polygon fill=\"black\" stroke=\"black\" points=\"289.82,-254.69 279.52,-252.19 286.01,-260.57 289.82,-254.69\"/>\n",
       "</g>\n",
       "<!-- 25 -->\n",
       "<g id=\"node26\" class=\"node\">\n",
       "<title>25</title>\n",
       "<polygon fill=\"none\" stroke=\"black\" points=\"409.5,-252 318.5,-252 318.5,-216 409.5,-216 409.5,-252\"/>\n",
       "<text text-anchor=\"middle\" x=\"364\" y=\"-230.3\" font-family=\"Times,serif\" font-size=\"14.00\">meat &lt;= 42.5</text>\n",
       "</g>\n",
       "<!-- 19&#45;&gt;25 -->\n",
       "<g id=\"edge25\" class=\"edge\">\n",
       "<title>19&#45;&gt;25</title>\n",
       "<path fill=\"none\" stroke=\"black\" d=\"M361.74,-287.7C362.07,-279.98 362.47,-270.71 362.84,-262.11\"/>\n",
       "<polygon fill=\"black\" stroke=\"black\" points=\"366.34,-262.25 363.27,-252.1 359.34,-261.95 366.34,-262.25\"/>\n",
       "</g>\n",
       "<!-- 21 -->\n",
       "<g id=\"node22\" class=\"node\">\n",
       "<title>21</title>\n",
       "<polygon fill=\"none\" stroke=\"black\" points=\"187,-180 107,-180 107,-144 187,-144 187,-180\"/>\n",
       "<text text-anchor=\"middle\" x=\"147\" y=\"-158.3\" font-family=\"Times,serif\" font-size=\"14.00\">class = Yes</text>\n",
       "</g>\n",
       "<!-- 20&#45;&gt;21 -->\n",
       "<g id=\"edge21\" class=\"edge\">\n",
       "<title>20&#45;&gt;21</title>\n",
       "<path fill=\"none\" stroke=\"black\" d=\"M227.07,-215.88C213.34,-206.81 196.29,-195.55 181.46,-185.76\"/>\n",
       "<polygon fill=\"black\" stroke=\"black\" points=\"183.3,-182.78 173.03,-180.19 179.45,-188.62 183.3,-182.78\"/>\n",
       "</g>\n",
       "<!-- 22 -->\n",
       "<g id=\"node23\" class=\"node\">\n",
       "<title>22</title>\n",
       "<polygon fill=\"none\" stroke=\"black\" points=\"300.5,-180 205.5,-180 205.5,-144 300.5,-144 300.5,-180\"/>\n",
       "<text text-anchor=\"middle\" x=\"253\" y=\"-158.3\" font-family=\"Times,serif\" font-size=\"14.00\">grade &lt;= 85.5</text>\n",
       "</g>\n",
       "<!-- 20&#45;&gt;22 -->\n",
       "<g id=\"edge22\" class=\"edge\">\n",
       "<title>20&#45;&gt;22</title>\n",
       "<path fill=\"none\" stroke=\"black\" d=\"M253,-215.7C253,-207.98 253,-198.71 253,-190.11\"/>\n",
       "<polygon fill=\"black\" stroke=\"black\" points=\"256.5,-190.1 253,-180.1 249.5,-190.1 256.5,-190.1\"/>\n",
       "</g>\n",
       "<!-- 23 -->\n",
       "<g id=\"node24\" class=\"node\">\n",
       "<title>23</title>\n",
       "<polygon fill=\"none\" stroke=\"black\" points=\"243,-108 167,-108 167,-72 243,-72 243,-108\"/>\n",
       "<text text-anchor=\"middle\" x=\"205\" y=\"-86.3\" font-family=\"Times,serif\" font-size=\"14.00\">class = No</text>\n",
       "</g>\n",
       "<!-- 22&#45;&gt;23 -->\n",
       "<g id=\"edge23\" class=\"edge\">\n",
       "<title>22&#45;&gt;23</title>\n",
       "<path fill=\"none\" stroke=\"black\" d=\"M241.13,-143.7C235.5,-135.47 228.65,-125.48 222.43,-116.42\"/>\n",
       "<polygon fill=\"black\" stroke=\"black\" points=\"225.27,-114.37 216.73,-108.1 219.5,-118.33 225.27,-114.37\"/>\n",
       "</g>\n",
       "<!-- 24 -->\n",
       "<g id=\"node25\" class=\"node\">\n",
       "<title>24</title>\n",
       "<polygon fill=\"none\" stroke=\"black\" points=\"341,-108 261,-108 261,-72 341,-72 341,-108\"/>\n",
       "<text text-anchor=\"middle\" x=\"301\" y=\"-86.3\" font-family=\"Times,serif\" font-size=\"14.00\">class = Yes</text>\n",
       "</g>\n",
       "<!-- 22&#45;&gt;24 -->\n",
       "<g id=\"edge24\" class=\"edge\">\n",
       "<title>22&#45;&gt;24</title>\n",
       "<path fill=\"none\" stroke=\"black\" d=\"M264.87,-143.7C270.5,-135.47 277.35,-125.48 283.57,-116.42\"/>\n",
       "<polygon fill=\"black\" stroke=\"black\" points=\"286.5,-118.33 289.27,-108.1 280.73,-114.37 286.5,-118.33\"/>\n",
       "</g>\n",
       "<!-- 26 -->\n",
       "<g id=\"node27\" class=\"node\">\n",
       "<title>26</title>\n",
       "<polygon fill=\"none\" stroke=\"black\" points=\"399,-180 319,-180 319,-144 399,-144 399,-180\"/>\n",
       "<text text-anchor=\"middle\" x=\"359\" y=\"-158.3\" font-family=\"Times,serif\" font-size=\"14.00\">class = Yes</text>\n",
       "</g>\n",
       "<!-- 25&#45;&gt;26 -->\n",
       "<g id=\"edge26\" class=\"edge\">\n",
       "<title>25&#45;&gt;26</title>\n",
       "<path fill=\"none\" stroke=\"black\" d=\"M362.76,-215.7C362.21,-207.98 361.55,-198.71 360.94,-190.11\"/>\n",
       "<polygon fill=\"black\" stroke=\"black\" points=\"364.43,-189.83 360.22,-180.1 357.44,-190.33 364.43,-189.83\"/>\n",
       "</g>\n",
       "<!-- 27 -->\n",
       "<g id=\"node28\" class=\"node\">\n",
       "<title>27</title>\n",
       "<polygon fill=\"none\" stroke=\"black\" points=\"497,-180 417,-180 417,-144 497,-144 497,-180\"/>\n",
       "<text text-anchor=\"middle\" x=\"457\" y=\"-158.3\" font-family=\"Times,serif\" font-size=\"14.00\">class = Yes</text>\n",
       "</g>\n",
       "<!-- 25&#45;&gt;27 -->\n",
       "<g id=\"edge27\" class=\"edge\">\n",
       "<title>25&#45;&gt;27</title>\n",
       "<path fill=\"none\" stroke=\"black\" d=\"M386.99,-215.7C398.81,-206.8 413.39,-195.82 426.18,-186.2\"/>\n",
       "<polygon fill=\"black\" stroke=\"black\" points=\"428.39,-188.91 434.28,-180.1 424.18,-183.32 428.39,-188.91\"/>\n",
       "</g>\n",
       "<!-- 29 -->\n",
       "<g id=\"node30\" class=\"node\">\n",
       "<title>29</title>\n",
       "<polygon fill=\"none\" stroke=\"black\" points=\"710.5,-468 615.5,-468 615.5,-432 710.5,-432 710.5,-468\"/>\n",
       "<text text-anchor=\"middle\" x=\"663\" y=\"-446.3\" font-family=\"Times,serif\" font-size=\"14.00\">grade &lt;= 67.5</text>\n",
       "</g>\n",
       "<!-- 28&#45;&gt;29 -->\n",
       "<g id=\"edge29\" class=\"edge\">\n",
       "<title>28&#45;&gt;29</title>\n",
       "<path fill=\"none\" stroke=\"black\" d=\"M736.02,-503.7C723.69,-494.8 708.48,-483.82 695.15,-474.2\"/>\n",
       "<polygon fill=\"black\" stroke=\"black\" points=\"696.86,-471.12 686.7,-468.1 692.76,-476.79 696.86,-471.12\"/>\n",
       "</g>\n",
       "<!-- 42 -->\n",
       "<g id=\"node43\" class=\"node\">\n",
       "<title>42</title>\n",
       "<polygon fill=\"none\" stroke=\"black\" points=\"954.5,-468 863.5,-468 863.5,-432 954.5,-432 954.5,-468\"/>\n",
       "<text text-anchor=\"middle\" x=\"909\" y=\"-446.3\" font-family=\"Times,serif\" font-size=\"14.00\">meat &lt;= 67.5</text>\n",
       "</g>\n",
       "<!-- 28&#45;&gt;42 -->\n",
       "<g id=\"edge42\" class=\"edge\">\n",
       "<title>28&#45;&gt;42</title>\n",
       "<path fill=\"none\" stroke=\"black\" d=\"M796.45,-503.88C816.64,-494.39 841.92,-482.51 863.41,-472.42\"/>\n",
       "<polygon fill=\"black\" stroke=\"black\" points=\"865.11,-475.49 872.67,-468.07 862.13,-469.15 865.11,-475.49\"/>\n",
       "</g>\n",
       "<!-- 30 -->\n",
       "<g id=\"node31\" class=\"node\">\n",
       "<title>30</title>\n",
       "<polygon fill=\"none\" stroke=\"black\" points=\"599,-396 519,-396 519,-360 599,-360 599,-396\"/>\n",
       "<text text-anchor=\"middle\" x=\"559\" y=\"-374.3\" font-family=\"Times,serif\" font-size=\"14.00\">class = Yes</text>\n",
       "</g>\n",
       "<!-- 29&#45;&gt;30 -->\n",
       "<g id=\"edge30\" class=\"edge\">\n",
       "<title>29&#45;&gt;30</title>\n",
       "<path fill=\"none\" stroke=\"black\" d=\"M637.56,-431.88C624.21,-422.89 607.68,-411.76 593.22,-402.03\"/>\n",
       "<polygon fill=\"black\" stroke=\"black\" points=\"594.79,-398.87 584.54,-396.19 590.88,-404.68 594.79,-398.87\"/>\n",
       "</g>\n",
       "<!-- 31 -->\n",
       "<g id=\"node32\" class=\"node\">\n",
       "<title>31</title>\n",
       "<polygon fill=\"none\" stroke=\"black\" points=\"708.5,-396 617.5,-396 617.5,-360 708.5,-360 708.5,-396\"/>\n",
       "<text text-anchor=\"middle\" x=\"663\" y=\"-374.3\" font-family=\"Times,serif\" font-size=\"14.00\">meat &lt;= 53.5</text>\n",
       "</g>\n",
       "<!-- 29&#45;&gt;31 -->\n",
       "<g id=\"edge31\" class=\"edge\">\n",
       "<title>29&#45;&gt;31</title>\n",
       "<path fill=\"none\" stroke=\"black\" d=\"M663,-431.7C663,-423.98 663,-414.71 663,-406.11\"/>\n",
       "<polygon fill=\"black\" stroke=\"black\" points=\"666.5,-406.1 663,-396.1 659.5,-406.1 666.5,-406.1\"/>\n",
       "</g>\n",
       "<!-- 32 -->\n",
       "<g id=\"node33\" class=\"node\">\n",
       "<title>32</title>\n",
       "<polygon fill=\"none\" stroke=\"black\" points=\"599,-324 523,-324 523,-288 599,-288 599,-324\"/>\n",
       "<text text-anchor=\"middle\" x=\"561\" y=\"-302.3\" font-family=\"Times,serif\" font-size=\"14.00\">class = No</text>\n",
       "</g>\n",
       "<!-- 31&#45;&gt;32 -->\n",
       "<g id=\"edge32\" class=\"edge\">\n",
       "<title>31&#45;&gt;32</title>\n",
       "<path fill=\"none\" stroke=\"black\" d=\"M638.05,-359.88C624.96,-350.89 608.74,-339.76 594.56,-330.03\"/>\n",
       "<polygon fill=\"black\" stroke=\"black\" points=\"596.27,-326.96 586.05,-324.19 592.31,-332.73 596.27,-326.96\"/>\n",
       "</g>\n",
       "<!-- 33 -->\n",
       "<g id=\"node34\" class=\"node\">\n",
       "<title>33</title>\n",
       "<polygon fill=\"none\" stroke=\"black\" points=\"708.5,-324 617.5,-324 617.5,-288 708.5,-288 708.5,-324\"/>\n",
       "<text text-anchor=\"middle\" x=\"663\" y=\"-302.3\" font-family=\"Times,serif\" font-size=\"14.00\">meat &lt;= 70.5</text>\n",
       "</g>\n",
       "<!-- 31&#45;&gt;33 -->\n",
       "<g id=\"edge33\" class=\"edge\">\n",
       "<title>31&#45;&gt;33</title>\n",
       "<path fill=\"none\" stroke=\"black\" d=\"M663,-359.7C663,-351.98 663,-342.71 663,-334.11\"/>\n",
       "<polygon fill=\"black\" stroke=\"black\" points=\"666.5,-334.1 663,-324.1 659.5,-334.1 666.5,-334.1\"/>\n",
       "</g>\n",
       "<!-- 34 -->\n",
       "<g id=\"node35\" class=\"node\">\n",
       "<title>34</title>\n",
       "<polygon fill=\"none\" stroke=\"black\" points=\"606.5,-252 515.5,-252 515.5,-216 606.5,-216 606.5,-252\"/>\n",
       "<text text-anchor=\"middle\" x=\"561\" y=\"-230.3\" font-family=\"Times,serif\" font-size=\"14.00\">meat &lt;= 65.0</text>\n",
       "</g>\n",
       "<!-- 33&#45;&gt;34 -->\n",
       "<g id=\"edge34\" class=\"edge\">\n",
       "<title>33&#45;&gt;34</title>\n",
       "<path fill=\"none\" stroke=\"black\" d=\"M638.05,-287.88C624.96,-278.89 608.74,-267.76 594.56,-258.03\"/>\n",
       "<polygon fill=\"black\" stroke=\"black\" points=\"596.27,-254.96 586.05,-252.19 592.31,-260.73 596.27,-254.96\"/>\n",
       "</g>\n",
       "<!-- 41 -->\n",
       "<g id=\"node42\" class=\"node\">\n",
       "<title>41</title>\n",
       "<polygon fill=\"none\" stroke=\"black\" points=\"701,-252 625,-252 625,-216 701,-216 701,-252\"/>\n",
       "<text text-anchor=\"middle\" x=\"663\" y=\"-230.3\" font-family=\"Times,serif\" font-size=\"14.00\">class = No</text>\n",
       "</g>\n",
       "<!-- 33&#45;&gt;41 -->\n",
       "<g id=\"edge41\" class=\"edge\">\n",
       "<title>33&#45;&gt;41</title>\n",
       "<path fill=\"none\" stroke=\"black\" d=\"M663,-287.7C663,-279.98 663,-270.71 663,-262.11\"/>\n",
       "<polygon fill=\"black\" stroke=\"black\" points=\"666.5,-262.1 663,-252.1 659.5,-262.1 666.5,-262.1\"/>\n",
       "</g>\n",
       "<!-- 35 -->\n",
       "<g id=\"node36\" class=\"node\">\n",
       "<title>35</title>\n",
       "<polygon fill=\"none\" stroke=\"black\" points=\"606.5,-180 515.5,-180 515.5,-144 606.5,-144 606.5,-180\"/>\n",
       "<text text-anchor=\"middle\" x=\"561\" y=\"-158.3\" font-family=\"Times,serif\" font-size=\"14.00\">meat &lt;= 58.5</text>\n",
       "</g>\n",
       "<!-- 34&#45;&gt;35 -->\n",
       "<g id=\"edge35\" class=\"edge\">\n",
       "<title>34&#45;&gt;35</title>\n",
       "<path fill=\"none\" stroke=\"black\" d=\"M561,-215.7C561,-207.98 561,-198.71 561,-190.11\"/>\n",
       "<polygon fill=\"black\" stroke=\"black\" points=\"564.5,-190.1 561,-180.1 557.5,-190.1 564.5,-190.1\"/>\n",
       "</g>\n",
       "<!-- 40 -->\n",
       "<g id=\"node41\" class=\"node\">\n",
       "<title>40</title>\n",
       "<polygon fill=\"none\" stroke=\"black\" points=\"705,-180 625,-180 625,-144 705,-144 705,-180\"/>\n",
       "<text text-anchor=\"middle\" x=\"665\" y=\"-158.3\" font-family=\"Times,serif\" font-size=\"14.00\">class = Yes</text>\n",
       "</g>\n",
       "<!-- 34&#45;&gt;40 -->\n",
       "<g id=\"edge40\" class=\"edge\">\n",
       "<title>34&#45;&gt;40</title>\n",
       "<path fill=\"none\" stroke=\"black\" d=\"M586.44,-215.88C599.79,-206.89 616.32,-195.76 630.78,-186.03\"/>\n",
       "<polygon fill=\"black\" stroke=\"black\" points=\"633.12,-188.68 639.46,-180.19 629.21,-182.87 633.12,-188.68\"/>\n",
       "</g>\n",
       "<!-- 36 -->\n",
       "<g id=\"node37\" class=\"node\">\n",
       "<title>36</title>\n",
       "<polygon fill=\"none\" stroke=\"black\" points=\"556.5,-108 461.5,-108 461.5,-72 556.5,-72 556.5,-108\"/>\n",
       "<text text-anchor=\"middle\" x=\"509\" y=\"-86.3\" font-family=\"Times,serif\" font-size=\"14.00\">grade &lt;= 72.5</text>\n",
       "</g>\n",
       "<!-- 35&#45;&gt;36 -->\n",
       "<g id=\"edge36\" class=\"edge\">\n",
       "<title>35&#45;&gt;36</title>\n",
       "<path fill=\"none\" stroke=\"black\" d=\"M548.15,-143.7C541.97,-135.39 534.46,-125.28 527.68,-116.14\"/>\n",
       "<polygon fill=\"black\" stroke=\"black\" points=\"530.48,-114.04 521.71,-108.1 524.86,-118.22 530.48,-114.04\"/>\n",
       "</g>\n",
       "<!-- 39 -->\n",
       "<g id=\"node40\" class=\"node\">\n",
       "<title>39</title>\n",
       "<polygon fill=\"none\" stroke=\"black\" points=\"651,-108 575,-108 575,-72 651,-72 651,-108\"/>\n",
       "<text text-anchor=\"middle\" x=\"613\" y=\"-86.3\" font-family=\"Times,serif\" font-size=\"14.00\">class = No</text>\n",
       "</g>\n",
       "<!-- 35&#45;&gt;39 -->\n",
       "<g id=\"edge39\" class=\"edge\">\n",
       "<title>35&#45;&gt;39</title>\n",
       "<path fill=\"none\" stroke=\"black\" d=\"M573.85,-143.7C580.03,-135.39 587.54,-125.28 594.32,-116.14\"/>\n",
       "<polygon fill=\"black\" stroke=\"black\" points=\"597.14,-118.22 600.29,-108.1 591.52,-114.04 597.14,-118.22\"/>\n",
       "</g>\n",
       "<!-- 37 -->\n",
       "<g id=\"node38\" class=\"node\">\n",
       "<title>37</title>\n",
       "<polygon fill=\"none\" stroke=\"black\" points=\"499,-36 423,-36 423,0 499,0 499,-36\"/>\n",
       "<text text-anchor=\"middle\" x=\"461\" y=\"-14.3\" font-family=\"Times,serif\" font-size=\"14.00\">class = No</text>\n",
       "</g>\n",
       "<!-- 36&#45;&gt;37 -->\n",
       "<g id=\"edge37\" class=\"edge\">\n",
       "<title>36&#45;&gt;37</title>\n",
       "<path fill=\"none\" stroke=\"black\" d=\"M497.13,-71.7C491.5,-63.47 484.65,-53.48 478.43,-44.42\"/>\n",
       "<polygon fill=\"black\" stroke=\"black\" points=\"481.27,-42.37 472.73,-36.1 475.5,-46.33 481.27,-42.37\"/>\n",
       "</g>\n",
       "<!-- 38 -->\n",
       "<g id=\"node39\" class=\"node\">\n",
       "<title>38</title>\n",
       "<polygon fill=\"none\" stroke=\"black\" points=\"597,-36 517,-36 517,0 597,0 597,-36\"/>\n",
       "<text text-anchor=\"middle\" x=\"557\" y=\"-14.3\" font-family=\"Times,serif\" font-size=\"14.00\">class = Yes</text>\n",
       "</g>\n",
       "<!-- 36&#45;&gt;38 -->\n",
       "<g id=\"edge38\" class=\"edge\">\n",
       "<title>36&#45;&gt;38</title>\n",
       "<path fill=\"none\" stroke=\"black\" d=\"M520.87,-71.7C526.5,-63.47 533.35,-53.48 539.57,-44.42\"/>\n",
       "<polygon fill=\"black\" stroke=\"black\" points=\"542.5,-46.33 545.27,-36.1 536.73,-42.37 542.5,-46.33\"/>\n",
       "</g>\n",
       "<!-- 43 -->\n",
       "<g id=\"node44\" class=\"node\">\n",
       "<title>43</title>\n",
       "<polygon fill=\"none\" stroke=\"black\" points=\"956.5,-396 861.5,-396 861.5,-360 956.5,-360 956.5,-396\"/>\n",
       "<text text-anchor=\"middle\" x=\"909\" y=\"-374.3\" font-family=\"Times,serif\" font-size=\"14.00\">grade &lt;= 82.5</text>\n",
       "</g>\n",
       "<!-- 42&#45;&gt;43 -->\n",
       "<g id=\"edge43\" class=\"edge\">\n",
       "<title>42&#45;&gt;43</title>\n",
       "<path fill=\"none\" stroke=\"black\" d=\"M909,-431.7C909,-423.98 909,-414.71 909,-406.11\"/>\n",
       "<polygon fill=\"black\" stroke=\"black\" points=\"912.5,-406.1 909,-396.1 905.5,-406.1 912.5,-406.1\"/>\n",
       "</g>\n",
       "<!-- 52 -->\n",
       "<g id=\"node53\" class=\"node\">\n",
       "<title>52</title>\n",
       "<polygon fill=\"none\" stroke=\"black\" points=\"1225.5,-396 1134.5,-396 1134.5,-360 1225.5,-360 1225.5,-396\"/>\n",
       "<text text-anchor=\"middle\" x=\"1180\" y=\"-374.3\" font-family=\"Times,serif\" font-size=\"14.00\">meat &lt;= 70.5</text>\n",
       "</g>\n",
       "<!-- 42&#45;&gt;52 -->\n",
       "<g id=\"edge52\" class=\"edge\">\n",
       "<title>42&#45;&gt;52</title>\n",
       "<path fill=\"none\" stroke=\"black\" d=\"M954.67,-437.2C1001.47,-425.11 1074.32,-406.3 1124.44,-393.35\"/>\n",
       "<polygon fill=\"black\" stroke=\"black\" points=\"1125.34,-396.73 1134.15,-390.84 1123.59,-389.96 1125.34,-396.73\"/>\n",
       "</g>\n",
       "<!-- 44 -->\n",
       "<g id=\"node45\" class=\"node\">\n",
       "<title>44</title>\n",
       "<polygon fill=\"none\" stroke=\"black\" points=\"899.5,-324 808.5,-324 808.5,-288 899.5,-288 899.5,-324\"/>\n",
       "<text text-anchor=\"middle\" x=\"854\" y=\"-302.3\" font-family=\"Times,serif\" font-size=\"14.00\">meat &lt;= 53.5</text>\n",
       "</g>\n",
       "<!-- 43&#45;&gt;44 -->\n",
       "<g id=\"edge44\" class=\"edge\">\n",
       "<title>43&#45;&gt;44</title>\n",
       "<path fill=\"none\" stroke=\"black\" d=\"M895.4,-359.7C888.88,-351.39 880.93,-341.28 873.75,-332.14\"/>\n",
       "<polygon fill=\"black\" stroke=\"black\" points=\"876.37,-329.81 867.44,-324.1 870.87,-334.13 876.37,-329.81\"/>\n",
       "</g>\n",
       "<!-- 47 -->\n",
       "<g id=\"node48\" class=\"node\">\n",
       "<title>47</title>\n",
       "<polygon fill=\"none\" stroke=\"black\" points=\"1012.5,-324 917.5,-324 917.5,-288 1012.5,-288 1012.5,-324\"/>\n",
       "<text text-anchor=\"middle\" x=\"965\" y=\"-302.3\" font-family=\"Times,serif\" font-size=\"14.00\">grade &lt;= 85.5</text>\n",
       "</g>\n",
       "<!-- 43&#45;&gt;47 -->\n",
       "<g id=\"edge47\" class=\"edge\">\n",
       "<title>43&#45;&gt;47</title>\n",
       "<path fill=\"none\" stroke=\"black\" d=\"M922.84,-359.7C929.49,-351.39 937.58,-341.28 944.89,-332.14\"/>\n",
       "<polygon fill=\"black\" stroke=\"black\" points=\"947.8,-334.1 951.32,-324.1 942.34,-329.73 947.8,-334.1\"/>\n",
       "</g>\n",
       "<!-- 45 -->\n",
       "<g id=\"node46\" class=\"node\">\n",
       "<title>45</title>\n",
       "<polygon fill=\"none\" stroke=\"black\" points=\"799,-252 719,-252 719,-216 799,-216 799,-252\"/>\n",
       "<text text-anchor=\"middle\" x=\"759\" y=\"-230.3\" font-family=\"Times,serif\" font-size=\"14.00\">class = Yes</text>\n",
       "</g>\n",
       "<!-- 44&#45;&gt;45 -->\n",
       "<g id=\"edge45\" class=\"edge\">\n",
       "<title>44&#45;&gt;45</title>\n",
       "<path fill=\"none\" stroke=\"black\" d=\"M830.52,-287.7C818.44,-278.8 803.55,-267.82 790.48,-258.2\"/>\n",
       "<polygon fill=\"black\" stroke=\"black\" points=\"792.34,-255.22 782.21,-252.1 788.19,-260.85 792.34,-255.22\"/>\n",
       "</g>\n",
       "<!-- 46 -->\n",
       "<g id=\"node47\" class=\"node\">\n",
       "<title>46</title>\n",
       "<polygon fill=\"none\" stroke=\"black\" points=\"897,-252 817,-252 817,-216 897,-216 897,-252\"/>\n",
       "<text text-anchor=\"middle\" x=\"857\" y=\"-230.3\" font-family=\"Times,serif\" font-size=\"14.00\">class = Yes</text>\n",
       "</g>\n",
       "<!-- 44&#45;&gt;46 -->\n",
       "<g id=\"edge46\" class=\"edge\">\n",
       "<title>44&#45;&gt;46</title>\n",
       "<path fill=\"none\" stroke=\"black\" d=\"M854.74,-287.7C855.07,-279.98 855.47,-270.71 855.84,-262.11\"/>\n",
       "<polygon fill=\"black\" stroke=\"black\" points=\"859.34,-262.25 856.27,-252.1 852.34,-261.95 859.34,-262.25\"/>\n",
       "</g>\n",
       "<!-- 48 -->\n",
       "<g id=\"node49\" class=\"node\">\n",
       "<title>48</title>\n",
       "<polygon fill=\"none\" stroke=\"black\" points=\"1006.5,-252 915.5,-252 915.5,-216 1006.5,-216 1006.5,-252\"/>\n",
       "<text text-anchor=\"middle\" x=\"961\" y=\"-230.3\" font-family=\"Times,serif\" font-size=\"14.00\">meat &lt;= 53.5</text>\n",
       "</g>\n",
       "<!-- 47&#45;&gt;48 -->\n",
       "<g id=\"edge48\" class=\"edge\">\n",
       "<title>47&#45;&gt;48</title>\n",
       "<path fill=\"none\" stroke=\"black\" d=\"M964.01,-287.7C963.57,-279.98 963.04,-270.71 962.55,-262.11\"/>\n",
       "<polygon fill=\"black\" stroke=\"black\" points=\"966.04,-261.89 961.98,-252.1 959.05,-262.29 966.04,-261.89\"/>\n",
       "</g>\n",
       "<!-- 51 -->\n",
       "<g id=\"node52\" class=\"node\">\n",
       "<title>51</title>\n",
       "<polygon fill=\"none\" stroke=\"black\" points=\"1105,-252 1025,-252 1025,-216 1105,-216 1105,-252\"/>\n",
       "<text text-anchor=\"middle\" x=\"1065\" y=\"-230.3\" font-family=\"Times,serif\" font-size=\"14.00\">class = Yes</text>\n",
       "</g>\n",
       "<!-- 47&#45;&gt;51 -->\n",
       "<g id=\"edge51\" class=\"edge\">\n",
       "<title>47&#45;&gt;51</title>\n",
       "<path fill=\"none\" stroke=\"black\" d=\"M989.46,-287.88C1002.3,-278.89 1018.2,-267.76 1032.09,-258.03\"/>\n",
       "<polygon fill=\"black\" stroke=\"black\" points=\"1034.26,-260.79 1040.44,-252.19 1030.24,-255.06 1034.26,-260.79\"/>\n",
       "</g>\n",
       "<!-- 49 -->\n",
       "<g id=\"node50\" class=\"node\">\n",
       "<title>49</title>\n",
       "<polygon fill=\"none\" stroke=\"black\" points=\"951,-180 875,-180 875,-144 951,-144 951,-180\"/>\n",
       "<text text-anchor=\"middle\" x=\"913\" y=\"-158.3\" font-family=\"Times,serif\" font-size=\"14.00\">class = No</text>\n",
       "</g>\n",
       "<!-- 48&#45;&gt;49 -->\n",
       "<g id=\"edge49\" class=\"edge\">\n",
       "<title>48&#45;&gt;49</title>\n",
       "<path fill=\"none\" stroke=\"black\" d=\"M949.13,-215.7C943.5,-207.47 936.65,-197.48 930.43,-188.42\"/>\n",
       "<polygon fill=\"black\" stroke=\"black\" points=\"933.27,-186.37 924.73,-180.1 927.5,-190.33 933.27,-186.37\"/>\n",
       "</g>\n",
       "<!-- 50 -->\n",
       "<g id=\"node51\" class=\"node\">\n",
       "<title>50</title>\n",
       "<polygon fill=\"none\" stroke=\"black\" points=\"1049,-180 969,-180 969,-144 1049,-144 1049,-180\"/>\n",
       "<text text-anchor=\"middle\" x=\"1009\" y=\"-158.3\" font-family=\"Times,serif\" font-size=\"14.00\">class = Yes</text>\n",
       "</g>\n",
       "<!-- 48&#45;&gt;50 -->\n",
       "<g id=\"edge50\" class=\"edge\">\n",
       "<title>48&#45;&gt;50</title>\n",
       "<path fill=\"none\" stroke=\"black\" d=\"M972.87,-215.7C978.5,-207.47 985.35,-197.48 991.57,-188.42\"/>\n",
       "<polygon fill=\"black\" stroke=\"black\" points=\"994.5,-190.33 997.27,-180.1 988.73,-186.37 994.5,-190.33\"/>\n",
       "</g>\n",
       "<!-- 53 -->\n",
       "<g id=\"node54\" class=\"node\">\n",
       "<title>53</title>\n",
       "<polygon fill=\"none\" stroke=\"black\" points=\"1227.5,-324 1132.5,-324 1132.5,-288 1227.5,-288 1227.5,-324\"/>\n",
       "<text text-anchor=\"middle\" x=\"1180\" y=\"-302.3\" font-family=\"Times,serif\" font-size=\"14.00\">grade &lt;= 82.5</text>\n",
       "</g>\n",
       "<!-- 52&#45;&gt;53 -->\n",
       "<g id=\"edge53\" class=\"edge\">\n",
       "<title>52&#45;&gt;53</title>\n",
       "<path fill=\"none\" stroke=\"black\" d=\"M1180,-359.7C1180,-351.98 1180,-342.71 1180,-334.11\"/>\n",
       "<polygon fill=\"black\" stroke=\"black\" points=\"1183.5,-334.1 1180,-324.1 1176.5,-334.1 1183.5,-334.1\"/>\n",
       "</g>\n",
       "<!-- 56 -->\n",
       "<g id=\"node57\" class=\"node\">\n",
       "<title>56</title>\n",
       "<polygon fill=\"none\" stroke=\"black\" points=\"1378.5,-324 1283.5,-324 1283.5,-288 1378.5,-288 1378.5,-324\"/>\n",
       "<text text-anchor=\"middle\" x=\"1331\" y=\"-302.3\" font-family=\"Times,serif\" font-size=\"14.00\">grade &lt;= 82.5</text>\n",
       "</g>\n",
       "<!-- 52&#45;&gt;56 -->\n",
       "<g id=\"edge56\" class=\"edge\">\n",
       "<title>52&#45;&gt;56</title>\n",
       "<path fill=\"none\" stroke=\"black\" d=\"M1216.94,-359.88C1237.49,-350.35 1263.25,-338.41 1285.09,-328.28\"/>\n",
       "<polygon fill=\"black\" stroke=\"black\" points=\"1286.58,-331.45 1294.18,-324.07 1283.64,-325.1 1286.58,-331.45\"/>\n",
       "</g>\n",
       "<!-- 54 -->\n",
       "<g id=\"node55\" class=\"node\">\n",
       "<title>54</title>\n",
       "<polygon fill=\"none\" stroke=\"black\" points=\"1199,-252 1123,-252 1123,-216 1199,-216 1199,-252\"/>\n",
       "<text text-anchor=\"middle\" x=\"1161\" y=\"-230.3\" font-family=\"Times,serif\" font-size=\"14.00\">class = No</text>\n",
       "</g>\n",
       "<!-- 53&#45;&gt;54 -->\n",
       "<g id=\"edge54\" class=\"edge\">\n",
       "<title>53&#45;&gt;54</title>\n",
       "<path fill=\"none\" stroke=\"black\" d=\"M1175.3,-287.7C1173.19,-279.9 1170.64,-270.51 1168.28,-261.83\"/>\n",
       "<polygon fill=\"black\" stroke=\"black\" points=\"1171.64,-260.84 1165.64,-252.1 1164.88,-262.67 1171.64,-260.84\"/>\n",
       "</g>\n",
       "<!-- 55 -->\n",
       "<g id=\"node56\" class=\"node\">\n",
       "<title>55</title>\n",
       "<polygon fill=\"none\" stroke=\"black\" points=\"1293,-252 1217,-252 1217,-216 1293,-216 1293,-252\"/>\n",
       "<text text-anchor=\"middle\" x=\"1255\" y=\"-230.3\" font-family=\"Times,serif\" font-size=\"14.00\">class = No</text>\n",
       "</g>\n",
       "<!-- 53&#45;&gt;55 -->\n",
       "<g id=\"edge55\" class=\"edge\">\n",
       "<title>53&#45;&gt;55</title>\n",
       "<path fill=\"none\" stroke=\"black\" d=\"M1198.54,-287.7C1207.8,-279.05 1219.16,-268.45 1229.26,-259.03\"/>\n",
       "<polygon fill=\"black\" stroke=\"black\" points=\"1231.75,-261.49 1236.67,-252.1 1226.98,-256.37 1231.75,-261.49\"/>\n",
       "</g>\n",
       "<!-- 57 -->\n",
       "<g id=\"node58\" class=\"node\">\n",
       "<title>57</title>\n",
       "<polygon fill=\"none\" stroke=\"black\" points=\"1391,-252 1311,-252 1311,-216 1391,-216 1391,-252\"/>\n",
       "<text text-anchor=\"middle\" x=\"1351\" y=\"-230.3\" font-family=\"Times,serif\" font-size=\"14.00\">class = Yes</text>\n",
       "</g>\n",
       "<!-- 56&#45;&gt;57 -->\n",
       "<g id=\"edge57\" class=\"edge\">\n",
       "<title>56&#45;&gt;57</title>\n",
       "<path fill=\"none\" stroke=\"black\" d=\"M1335.94,-287.7C1338.17,-279.9 1340.85,-270.51 1343.33,-261.83\"/>\n",
       "<polygon fill=\"black\" stroke=\"black\" points=\"1346.73,-262.68 1346.11,-252.1 1340,-260.76 1346.73,-262.68\"/>\n",
       "</g>\n",
       "<!-- 58 -->\n",
       "<g id=\"node59\" class=\"node\">\n",
       "<title>58</title>\n",
       "<polygon fill=\"none\" stroke=\"black\" points=\"1489,-252 1409,-252 1409,-216 1489,-216 1489,-252\"/>\n",
       "<text text-anchor=\"middle\" x=\"1449\" y=\"-230.3\" font-family=\"Times,serif\" font-size=\"14.00\">class = Yes</text>\n",
       "</g>\n",
       "<!-- 56&#45;&gt;58 -->\n",
       "<g id=\"edge58\" class=\"edge\">\n",
       "<title>56&#45;&gt;58</title>\n",
       "<path fill=\"none\" stroke=\"black\" d=\"M1359.87,-287.88C1375.29,-278.72 1394.48,-267.34 1411.1,-257.48\"/>\n",
       "<polygon fill=\"black\" stroke=\"black\" points=\"1413.21,-260.3 1420.02,-252.19 1409.64,-254.28 1413.21,-260.3\"/>\n",
       "</g>\n",
       "<!-- 60 -->\n",
       "<g id=\"node61\" class=\"node\">\n",
       "<title>60</title>\n",
       "<polygon fill=\"none\" stroke=\"black\" points=\"1441.5,-540 1346.5,-540 1346.5,-504 1441.5,-504 1441.5,-540\"/>\n",
       "<text text-anchor=\"middle\" x=\"1394\" y=\"-518.3\" font-family=\"Times,serif\" font-size=\"14.00\">grade &lt;= 82.5</text>\n",
       "</g>\n",
       "<!-- 59&#45;&gt;60 -->\n",
       "<g id=\"edge60\" class=\"edge\">\n",
       "<title>59&#45;&gt;60</title>\n",
       "<path fill=\"none\" stroke=\"black\" d=\"M1423.36,-575.7C1418.87,-567.64 1413.44,-557.89 1408.48,-548.98\"/>\n",
       "<polygon fill=\"black\" stroke=\"black\" points=\"1411.45,-547.14 1403.53,-540.1 1405.34,-550.54 1411.45,-547.14\"/>\n",
       "</g>\n",
       "<!-- 67 -->\n",
       "<g id=\"node68\" class=\"node\">\n",
       "<title>67</title>\n",
       "<polygon fill=\"none\" stroke=\"black\" points=\"1550.5,-540 1459.5,-540 1459.5,-504 1550.5,-504 1550.5,-540\"/>\n",
       "<text text-anchor=\"middle\" x=\"1505\" y=\"-518.3\" font-family=\"Times,serif\" font-size=\"14.00\">meat &lt;= 85.5</text>\n",
       "</g>\n",
       "<!-- 59&#45;&gt;67 -->\n",
       "<g id=\"edge67\" class=\"edge\">\n",
       "<title>59&#45;&gt;67</title>\n",
       "<path fill=\"none\" stroke=\"black\" d=\"M1450.8,-575.7C1459.6,-567.14 1470.38,-556.66 1480,-547.3\"/>\n",
       "<polygon fill=\"black\" stroke=\"black\" points=\"1482.68,-549.58 1487.41,-540.1 1477.8,-544.57 1482.68,-549.58\"/>\n",
       "</g>\n",
       "<!-- 61 -->\n",
       "<g id=\"node62\" class=\"node\">\n",
       "<title>61</title>\n",
       "<polygon fill=\"none\" stroke=\"black\" points=\"1352.5,-468 1261.5,-468 1261.5,-432 1352.5,-432 1352.5,-468\"/>\n",
       "<text text-anchor=\"middle\" x=\"1307\" y=\"-446.3\" font-family=\"Times,serif\" font-size=\"14.00\">meat &lt;= 88.0</text>\n",
       "</g>\n",
       "<!-- 60&#45;&gt;61 -->\n",
       "<g id=\"edge61\" class=\"edge\">\n",
       "<title>60&#45;&gt;61</title>\n",
       "<path fill=\"none\" stroke=\"black\" d=\"M1372.49,-503.7C1361.54,-494.88 1348.05,-484.03 1336.18,-474.47\"/>\n",
       "<polygon fill=\"black\" stroke=\"black\" points=\"1338.24,-471.65 1328.26,-468.1 1333.86,-477.1 1338.24,-471.65\"/>\n",
       "</g>\n",
       "<!-- 66 -->\n",
       "<g id=\"node67\" class=\"node\">\n",
       "<title>66</title>\n",
       "<polygon fill=\"none\" stroke=\"black\" points=\"1447,-468 1371,-468 1371,-432 1447,-432 1447,-468\"/>\n",
       "<text text-anchor=\"middle\" x=\"1409\" y=\"-446.3\" font-family=\"Times,serif\" font-size=\"14.00\">class = No</text>\n",
       "</g>\n",
       "<!-- 60&#45;&gt;66 -->\n",
       "<g id=\"edge66\" class=\"edge\">\n",
       "<title>60&#45;&gt;66</title>\n",
       "<path fill=\"none\" stroke=\"black\" d=\"M1397.71,-503.7C1399.36,-495.98 1401.35,-486.71 1403.19,-478.11\"/>\n",
       "<polygon fill=\"black\" stroke=\"black\" points=\"1406.66,-478.62 1405.33,-468.1 1399.82,-477.15 1406.66,-478.62\"/>\n",
       "</g>\n",
       "<!-- 62 -->\n",
       "<g id=\"node63\" class=\"node\">\n",
       "<title>62</title>\n",
       "<polygon fill=\"none\" stroke=\"black\" points=\"1347,-396 1267,-396 1267,-360 1347,-360 1347,-396\"/>\n",
       "<text text-anchor=\"middle\" x=\"1307\" y=\"-374.3\" font-family=\"Times,serif\" font-size=\"14.00\">class = Yes</text>\n",
       "</g>\n",
       "<!-- 61&#45;&gt;62 -->\n",
       "<g id=\"edge62\" class=\"edge\">\n",
       "<title>61&#45;&gt;62</title>\n",
       "<path fill=\"none\" stroke=\"black\" d=\"M1307,-431.7C1307,-423.98 1307,-414.71 1307,-406.11\"/>\n",
       "<polygon fill=\"black\" stroke=\"black\" points=\"1310.5,-406.1 1307,-396.1 1303.5,-406.1 1310.5,-406.1\"/>\n",
       "</g>\n",
       "<!-- 63 -->\n",
       "<g id=\"node64\" class=\"node\">\n",
       "<title>63</title>\n",
       "<polygon fill=\"none\" stroke=\"black\" points=\"1484.5,-396 1389.5,-396 1389.5,-360 1484.5,-360 1484.5,-396\"/>\n",
       "<text text-anchor=\"middle\" x=\"1437\" y=\"-374.3\" font-family=\"Times,serif\" font-size=\"14.00\">grade &lt;= 76.0</text>\n",
       "</g>\n",
       "<!-- 61&#45;&gt;63 -->\n",
       "<g id=\"edge63\" class=\"edge\">\n",
       "<title>61&#45;&gt;63</title>\n",
       "<path fill=\"none\" stroke=\"black\" d=\"M1338.8,-431.88C1356.11,-422.55 1377.72,-410.92 1396.26,-400.94\"/>\n",
       "<polygon fill=\"black\" stroke=\"black\" points=\"1397.93,-404.01 1405.08,-396.19 1394.61,-397.85 1397.93,-404.01\"/>\n",
       "</g>\n",
       "<!-- 64 -->\n",
       "<g id=\"node65\" class=\"node\">\n",
       "<title>64</title>\n",
       "<polygon fill=\"none\" stroke=\"black\" points=\"1477,-324 1397,-324 1397,-288 1477,-288 1477,-324\"/>\n",
       "<text text-anchor=\"middle\" x=\"1437\" y=\"-302.3\" font-family=\"Times,serif\" font-size=\"14.00\">class = Yes</text>\n",
       "</g>\n",
       "<!-- 63&#45;&gt;64 -->\n",
       "<g id=\"edge64\" class=\"edge\">\n",
       "<title>63&#45;&gt;64</title>\n",
       "<path fill=\"none\" stroke=\"black\" d=\"M1437,-359.7C1437,-351.98 1437,-342.71 1437,-334.11\"/>\n",
       "<polygon fill=\"black\" stroke=\"black\" points=\"1440.5,-334.1 1437,-324.1 1433.5,-334.1 1440.5,-334.1\"/>\n",
       "</g>\n",
       "<!-- 65 -->\n",
       "<g id=\"node66\" class=\"node\">\n",
       "<title>65</title>\n",
       "<polygon fill=\"none\" stroke=\"black\" points=\"1571,-324 1495,-324 1495,-288 1571,-288 1571,-324\"/>\n",
       "<text text-anchor=\"middle\" x=\"1533\" y=\"-302.3\" font-family=\"Times,serif\" font-size=\"14.00\">class = No</text>\n",
       "</g>\n",
       "<!-- 63&#45;&gt;65 -->\n",
       "<g id=\"edge65\" class=\"edge\">\n",
       "<title>63&#45;&gt;65</title>\n",
       "<path fill=\"none\" stroke=\"black\" d=\"M1460.73,-359.7C1472.94,-350.8 1487.99,-339.82 1501.18,-330.2\"/>\n",
       "<polygon fill=\"black\" stroke=\"black\" points=\"1503.52,-332.82 1509.54,-324.1 1499.4,-327.17 1503.52,-332.82\"/>\n",
       "</g>\n",
       "<!-- 68 -->\n",
       "<g id=\"node69\" class=\"node\">\n",
       "<title>68</title>\n",
       "<polygon fill=\"none\" stroke=\"black\" points=\"1545,-468 1465,-468 1465,-432 1545,-432 1545,-468\"/>\n",
       "<text text-anchor=\"middle\" x=\"1505\" y=\"-446.3\" font-family=\"Times,serif\" font-size=\"14.00\">class = Yes</text>\n",
       "</g>\n",
       "<!-- 67&#45;&gt;68 -->\n",
       "<g id=\"edge68\" class=\"edge\">\n",
       "<title>67&#45;&gt;68</title>\n",
       "<path fill=\"none\" stroke=\"black\" d=\"M1505,-503.7C1505,-495.98 1505,-486.71 1505,-478.11\"/>\n",
       "<polygon fill=\"black\" stroke=\"black\" points=\"1508.5,-478.1 1505,-468.1 1501.5,-478.1 1508.5,-478.1\"/>\n",
       "</g>\n",
       "<!-- 69 -->\n",
       "<g id=\"node70\" class=\"node\">\n",
       "<title>69</title>\n",
       "<polygon fill=\"none\" stroke=\"black\" points=\"1654.5,-468 1563.5,-468 1563.5,-432 1654.5,-432 1654.5,-468\"/>\n",
       "<text text-anchor=\"middle\" x=\"1609\" y=\"-446.3\" font-family=\"Times,serif\" font-size=\"14.00\">meat &lt;= 88.0</text>\n",
       "</g>\n",
       "<!-- 67&#45;&gt;69 -->\n",
       "<g id=\"edge69\" class=\"edge\">\n",
       "<title>67&#45;&gt;69</title>\n",
       "<path fill=\"none\" stroke=\"black\" d=\"M1530.44,-503.88C1543.79,-494.89 1560.32,-483.76 1574.78,-474.03\"/>\n",
       "<polygon fill=\"black\" stroke=\"black\" points=\"1577.12,-476.68 1583.46,-468.19 1573.21,-470.87 1577.12,-476.68\"/>\n",
       "</g>\n",
       "<!-- 70 -->\n",
       "<g id=\"node71\" class=\"node\">\n",
       "<title>70</title>\n",
       "<polygon fill=\"none\" stroke=\"black\" points=\"1616,-396 1536,-396 1536,-360 1616,-360 1616,-396\"/>\n",
       "<text text-anchor=\"middle\" x=\"1576\" y=\"-374.3\" font-family=\"Times,serif\" font-size=\"14.00\">class = Yes</text>\n",
       "</g>\n",
       "<!-- 69&#45;&gt;70 -->\n",
       "<g id=\"edge70\" class=\"edge\">\n",
       "<title>69&#45;&gt;70</title>\n",
       "<path fill=\"none\" stroke=\"black\" d=\"M1600.84,-431.7C1597.09,-423.73 1592.55,-414.1 1588.38,-405.26\"/>\n",
       "<polygon fill=\"black\" stroke=\"black\" points=\"1591.49,-403.66 1584.06,-396.1 1585.16,-406.64 1591.49,-403.66\"/>\n",
       "</g>\n",
       "<!-- 71 -->\n",
       "<g id=\"node72\" class=\"node\">\n",
       "<title>71</title>\n",
       "<polygon fill=\"none\" stroke=\"black\" points=\"1714,-396 1634,-396 1634,-360 1714,-360 1714,-396\"/>\n",
       "<text text-anchor=\"middle\" x=\"1674\" y=\"-374.3\" font-family=\"Times,serif\" font-size=\"14.00\">class = Yes</text>\n",
       "</g>\n",
       "<!-- 69&#45;&gt;71 -->\n",
       "<g id=\"edge71\" class=\"edge\">\n",
       "<title>69&#45;&gt;71</title>\n",
       "<path fill=\"none\" stroke=\"black\" d=\"M1625.07,-431.7C1632.94,-423.22 1642.56,-412.86 1651.17,-403.58\"/>\n",
       "<polygon fill=\"black\" stroke=\"black\" points=\"1653.88,-405.81 1658.12,-396.1 1648.75,-401.05 1653.88,-405.81\"/>\n",
       "</g>\n",
       "<!-- 74 -->\n",
       "<g id=\"node75\" class=\"node\">\n",
       "<title>74</title>\n",
       "<polygon fill=\"none\" stroke=\"black\" points=\"1736.5,-684 1641.5,-684 1641.5,-648 1736.5,-648 1736.5,-684\"/>\n",
       "<text text-anchor=\"middle\" x=\"1689\" y=\"-662.3\" font-family=\"Times,serif\" font-size=\"14.00\">grade &lt;= 97.5</text>\n",
       "</g>\n",
       "<!-- 73&#45;&gt;74 -->\n",
       "<g id=\"edge74\" class=\"edge\">\n",
       "<title>73&#45;&gt;74</title>\n",
       "<path fill=\"none\" stroke=\"black\" d=\"M1731.91,-719.7C1725.08,-711.3 1716.74,-701.07 1709.24,-691.86\"/>\n",
       "<polygon fill=\"black\" stroke=\"black\" points=\"1711.96,-689.65 1702.93,-684.1 1706.53,-694.07 1711.96,-689.65\"/>\n",
       "</g>\n",
       "<!-- 79 -->\n",
       "<g id=\"node80\" class=\"node\">\n",
       "<title>79</title>\n",
       "<polygon fill=\"none\" stroke=\"black\" points=\"1852.5,-684 1761.5,-684 1761.5,-648 1852.5,-648 1852.5,-684\"/>\n",
       "<text text-anchor=\"middle\" x=\"1807\" y=\"-662.3\" font-family=\"Times,serif\" font-size=\"14.00\">meat &lt;= 85.5</text>\n",
       "</g>\n",
       "<!-- 73&#45;&gt;79 -->\n",
       "<g id=\"edge79\" class=\"edge\">\n",
       "<title>73&#45;&gt;79</title>\n",
       "<path fill=\"none\" stroke=\"black\" d=\"M1761.08,-719.7C1768.39,-711.3 1777.31,-701.07 1785.34,-691.86\"/>\n",
       "<polygon fill=\"black\" stroke=\"black\" points=\"1788.16,-693.94 1792.09,-684.1 1782.89,-689.34 1788.16,-693.94\"/>\n",
       "</g>\n",
       "<!-- 75 -->\n",
       "<g id=\"node76\" class=\"node\">\n",
       "<title>75</title>\n",
       "<polygon fill=\"none\" stroke=\"black\" points=\"1618,-612 1538,-612 1538,-576 1618,-576 1618,-612\"/>\n",
       "<text text-anchor=\"middle\" x=\"1578\" y=\"-590.3\" font-family=\"Times,serif\" font-size=\"14.00\">class = Yes</text>\n",
       "</g>\n",
       "<!-- 74&#45;&gt;75 -->\n",
       "<g id=\"edge75\" class=\"edge\">\n",
       "<title>74&#45;&gt;75</title>\n",
       "<path fill=\"none\" stroke=\"black\" d=\"M1661.85,-647.88C1647.47,-638.81 1629.62,-627.55 1614.09,-617.76\"/>\n",
       "<polygon fill=\"black\" stroke=\"black\" points=\"1615.58,-614.56 1605.26,-612.19 1611.85,-620.48 1615.58,-614.56\"/>\n",
       "</g>\n",
       "<!-- 76 -->\n",
       "<g id=\"node77\" class=\"node\">\n",
       "<title>76</title>\n",
       "<polygon fill=\"none\" stroke=\"black\" points=\"1741.5,-612 1636.5,-612 1636.5,-576 1741.5,-576 1741.5,-612\"/>\n",
       "<text text-anchor=\"middle\" x=\"1689\" y=\"-590.3\" font-family=\"Times,serif\" font-size=\"14.00\">meat &lt;= 14.355</text>\n",
       "</g>\n",
       "<!-- 74&#45;&gt;76 -->\n",
       "<g id=\"edge76\" class=\"edge\">\n",
       "<title>74&#45;&gt;76</title>\n",
       "<path fill=\"none\" stroke=\"black\" d=\"M1689,-647.7C1689,-639.98 1689,-630.71 1689,-622.11\"/>\n",
       "<polygon fill=\"black\" stroke=\"black\" points=\"1692.5,-622.1 1689,-612.1 1685.5,-622.1 1692.5,-622.1\"/>\n",
       "</g>\n",
       "<!-- 77 -->\n",
       "<g id=\"node78\" class=\"node\">\n",
       "<title>77</title>\n",
       "<polygon fill=\"none\" stroke=\"black\" points=\"1649,-540 1569,-540 1569,-504 1649,-504 1649,-540\"/>\n",
       "<text text-anchor=\"middle\" x=\"1609\" y=\"-518.3\" font-family=\"Times,serif\" font-size=\"14.00\">class = Yes</text>\n",
       "</g>\n",
       "<!-- 76&#45;&gt;77 -->\n",
       "<g id=\"edge77\" class=\"edge\">\n",
       "<title>76&#45;&gt;77</title>\n",
       "<path fill=\"none\" stroke=\"black\" d=\"M1669.22,-575.7C1659.25,-566.97 1646.99,-556.24 1636.14,-546.75\"/>\n",
       "<polygon fill=\"black\" stroke=\"black\" points=\"1638.38,-544.06 1628.55,-540.1 1633.77,-549.32 1638.38,-544.06\"/>\n",
       "</g>\n",
       "<!-- 78 -->\n",
       "<g id=\"node79\" class=\"node\">\n",
       "<title>78</title>\n",
       "<polygon fill=\"none\" stroke=\"black\" points=\"1743,-540 1667,-540 1667,-504 1743,-504 1743,-540\"/>\n",
       "<text text-anchor=\"middle\" x=\"1705\" y=\"-518.3\" font-family=\"Times,serif\" font-size=\"14.00\">class = No</text>\n",
       "</g>\n",
       "<!-- 76&#45;&gt;78 -->\n",
       "<g id=\"edge78\" class=\"edge\">\n",
       "<title>76&#45;&gt;78</title>\n",
       "<path fill=\"none\" stroke=\"black\" d=\"M1692.96,-575.7C1694.72,-567.98 1696.84,-558.71 1698.8,-550.11\"/>\n",
       "<polygon fill=\"black\" stroke=\"black\" points=\"1702.27,-550.63 1701.09,-540.1 1695.45,-549.07 1702.27,-550.63\"/>\n",
       "</g>\n",
       "<!-- 80 -->\n",
       "<g id=\"node81\" class=\"node\">\n",
       "<title>80</title>\n",
       "<polygon fill=\"none\" stroke=\"black\" points=\"1854.5,-612 1759.5,-612 1759.5,-576 1854.5,-576 1854.5,-612\"/>\n",
       "<text text-anchor=\"middle\" x=\"1807\" y=\"-590.3\" font-family=\"Times,serif\" font-size=\"14.00\">grade &lt;= 90.5</text>\n",
       "</g>\n",
       "<!-- 79&#45;&gt;80 -->\n",
       "<g id=\"edge80\" class=\"edge\">\n",
       "<title>79&#45;&gt;80</title>\n",
       "<path fill=\"none\" stroke=\"black\" d=\"M1807,-647.7C1807,-639.98 1807,-630.71 1807,-622.11\"/>\n",
       "<polygon fill=\"black\" stroke=\"black\" points=\"1810.5,-622.1 1807,-612.1 1803.5,-622.1 1810.5,-622.1\"/>\n",
       "</g>\n",
       "<!-- 87 -->\n",
       "<g id=\"node88\" class=\"node\">\n",
       "<title>87</title>\n",
       "<polygon fill=\"none\" stroke=\"black\" points=\"1953,-612 1873,-612 1873,-576 1953,-576 1953,-612\"/>\n",
       "<text text-anchor=\"middle\" x=\"1913\" y=\"-590.3\" font-family=\"Times,serif\" font-size=\"14.00\">class = Yes</text>\n",
       "</g>\n",
       "<!-- 79&#45;&gt;87 -->\n",
       "<g id=\"edge87\" class=\"edge\">\n",
       "<title>79&#45;&gt;87</title>\n",
       "<path fill=\"none\" stroke=\"black\" d=\"M1832.93,-647.88C1846.66,-638.81 1863.71,-627.55 1878.54,-617.76\"/>\n",
       "<polygon fill=\"black\" stroke=\"black\" points=\"1880.55,-620.62 1886.97,-612.19 1876.7,-614.78 1880.55,-620.62\"/>\n",
       "</g>\n",
       "<!-- 81 -->\n",
       "<g id=\"node82\" class=\"node\">\n",
       "<title>81</title>\n",
       "<polygon fill=\"none\" stroke=\"black\" points=\"1852.5,-540 1761.5,-540 1761.5,-504 1852.5,-504 1852.5,-540\"/>\n",
       "<text text-anchor=\"middle\" x=\"1807\" y=\"-518.3\" font-family=\"Times,serif\" font-size=\"14.00\">meat &lt;= 80.0</text>\n",
       "</g>\n",
       "<!-- 80&#45;&gt;81 -->\n",
       "<g id=\"edge81\" class=\"edge\">\n",
       "<title>80&#45;&gt;81</title>\n",
       "<path fill=\"none\" stroke=\"black\" d=\"M1807,-575.7C1807,-567.98 1807,-558.71 1807,-550.11\"/>\n",
       "<polygon fill=\"black\" stroke=\"black\" points=\"1810.5,-550.1 1807,-540.1 1803.5,-550.1 1810.5,-550.1\"/>\n",
       "</g>\n",
       "<!-- 86 -->\n",
       "<g id=\"node87\" class=\"node\">\n",
       "<title>86</title>\n",
       "<polygon fill=\"none\" stroke=\"black\" points=\"1951,-540 1871,-540 1871,-504 1951,-504 1951,-540\"/>\n",
       "<text text-anchor=\"middle\" x=\"1911\" y=\"-518.3\" font-family=\"Times,serif\" font-size=\"14.00\">class = Yes</text>\n",
       "</g>\n",
       "<!-- 80&#45;&gt;86 -->\n",
       "<g id=\"edge86\" class=\"edge\">\n",
       "<title>80&#45;&gt;86</title>\n",
       "<path fill=\"none\" stroke=\"black\" d=\"M1832.44,-575.88C1845.79,-566.89 1862.32,-555.76 1876.78,-546.03\"/>\n",
       "<polygon fill=\"black\" stroke=\"black\" points=\"1879.12,-548.68 1885.46,-540.19 1875.21,-542.87 1879.12,-548.68\"/>\n",
       "</g>\n",
       "<!-- 82 -->\n",
       "<g id=\"node83\" class=\"node\">\n",
       "<title>82</title>\n",
       "<polygon fill=\"none\" stroke=\"black\" points=\"1834.5,-468 1743.5,-468 1743.5,-432 1834.5,-432 1834.5,-468\"/>\n",
       "<text text-anchor=\"middle\" x=\"1789\" y=\"-446.3\" font-family=\"Times,serif\" font-size=\"14.00\">meat &lt;= 73.0</text>\n",
       "</g>\n",
       "<!-- 81&#45;&gt;82 -->\n",
       "<g id=\"edge82\" class=\"edge\">\n",
       "<title>81&#45;&gt;82</title>\n",
       "<path fill=\"none\" stroke=\"black\" d=\"M1802.55,-503.7C1800.55,-495.9 1798.13,-486.51 1795.9,-477.83\"/>\n",
       "<polygon fill=\"black\" stroke=\"black\" points=\"1799.28,-476.92 1793.4,-468.1 1792.5,-478.66 1799.28,-476.92\"/>\n",
       "</g>\n",
       "<!-- 85 -->\n",
       "<g id=\"node86\" class=\"node\">\n",
       "<title>85</title>\n",
       "<polygon fill=\"none\" stroke=\"black\" points=\"1929,-468 1853,-468 1853,-432 1929,-432 1929,-468\"/>\n",
       "<text text-anchor=\"middle\" x=\"1891\" y=\"-446.3\" font-family=\"Times,serif\" font-size=\"14.00\">class = No</text>\n",
       "</g>\n",
       "<!-- 81&#45;&gt;85 -->\n",
       "<g id=\"edge85\" class=\"edge\">\n",
       "<title>81&#45;&gt;85</title>\n",
       "<path fill=\"none\" stroke=\"black\" d=\"M1827.76,-503.7C1838.24,-494.97 1851.11,-484.24 1862.5,-474.75\"/>\n",
       "<polygon fill=\"black\" stroke=\"black\" points=\"1865.03,-477.19 1870.47,-468.1 1860.55,-471.82 1865.03,-477.19\"/>\n",
       "</g>\n",
       "<!-- 83 -->\n",
       "<g id=\"node84\" class=\"node\">\n",
       "<title>83</title>\n",
       "<polygon fill=\"none\" stroke=\"black\" points=\"1818,-396 1742,-396 1742,-360 1818,-360 1818,-396\"/>\n",
       "<text text-anchor=\"middle\" x=\"1780\" y=\"-374.3\" font-family=\"Times,serif\" font-size=\"14.00\">class = No</text>\n",
       "</g>\n",
       "<!-- 82&#45;&gt;83 -->\n",
       "<g id=\"edge83\" class=\"edge\">\n",
       "<title>82&#45;&gt;83</title>\n",
       "<path fill=\"none\" stroke=\"black\" d=\"M1786.78,-431.7C1785.78,-423.98 1784.59,-414.71 1783.49,-406.11\"/>\n",
       "<polygon fill=\"black\" stroke=\"black\" points=\"1786.95,-405.58 1782.2,-396.1 1780,-406.47 1786.95,-405.58\"/>\n",
       "</g>\n",
       "<!-- 84 -->\n",
       "<g id=\"node85\" class=\"node\">\n",
       "<title>84</title>\n",
       "<polygon fill=\"none\" stroke=\"black\" points=\"1916,-396 1836,-396 1836,-360 1916,-360 1916,-396\"/>\n",
       "<text text-anchor=\"middle\" x=\"1876\" y=\"-374.3\" font-family=\"Times,serif\" font-size=\"14.00\">class = Yes</text>\n",
       "</g>\n",
       "<!-- 82&#45;&gt;84 -->\n",
       "<g id=\"edge84\" class=\"edge\">\n",
       "<title>82&#45;&gt;84</title>\n",
       "<path fill=\"none\" stroke=\"black\" d=\"M1810.51,-431.7C1821.46,-422.88 1834.95,-412.03 1846.82,-402.47\"/>\n",
       "<polygon fill=\"black\" stroke=\"black\" points=\"1849.14,-405.1 1854.74,-396.1 1844.76,-399.65 1849.14,-405.1\"/>\n",
       "</g>\n",
       "<!-- 89 -->\n",
       "<g id=\"node90\" class=\"node\">\n",
       "<title>89</title>\n",
       "<polygon fill=\"none\" stroke=\"black\" points=\"1997,-828 1921,-828 1921,-792 1997,-792 1997,-828\"/>\n",
       "<text text-anchor=\"middle\" x=\"1959\" y=\"-806.3\" font-family=\"Times,serif\" font-size=\"14.00\">class = No</text>\n",
       "</g>\n",
       "<!-- 88&#45;&gt;89 -->\n",
       "<g id=\"edge89\" class=\"edge\">\n",
       "<title>88&#45;&gt;89</title>\n",
       "<path fill=\"none\" stroke=\"black\" d=\"M1959,-863.7C1959,-855.98 1959,-846.71 1959,-838.11\"/>\n",
       "<polygon fill=\"black\" stroke=\"black\" points=\"1962.5,-838.1 1959,-828.1 1955.5,-838.1 1962.5,-838.1\"/>\n",
       "</g>\n",
       "<!-- 90 -->\n",
       "<g id=\"node91\" class=\"node\">\n",
       "<title>90</title>\n",
       "<polygon fill=\"none\" stroke=\"black\" points=\"2211.5,-828 2116.5,-828 2116.5,-792 2211.5,-792 2211.5,-828\"/>\n",
       "<text text-anchor=\"middle\" x=\"2164\" y=\"-806.3\" font-family=\"Times,serif\" font-size=\"14.00\">grade &lt;= 84.0</text>\n",
       "</g>\n",
       "<!-- 88&#45;&gt;90 -->\n",
       "<g id=\"edge90\" class=\"edge\">\n",
       "<title>88&#45;&gt;90</title>\n",
       "<path fill=\"none\" stroke=\"black\" d=\"M2006.55,-864.76C2036.45,-854.55 2075.22,-841.32 2106.8,-830.53\"/>\n",
       "<polygon fill=\"black\" stroke=\"black\" points=\"2108.02,-833.81 2116.36,-827.27 2105.76,-827.19 2108.02,-833.81\"/>\n",
       "</g>\n",
       "<!-- 91 -->\n",
       "<g id=\"node92\" class=\"node\">\n",
       "<title>91</title>\n",
       "<polygon fill=\"none\" stroke=\"black\" points=\"2211.5,-756 2116.5,-756 2116.5,-720 2211.5,-720 2211.5,-756\"/>\n",
       "<text text-anchor=\"middle\" x=\"2164\" y=\"-734.3\" font-family=\"Times,serif\" font-size=\"14.00\">grade &lt;= 79.5</text>\n",
       "</g>\n",
       "<!-- 90&#45;&gt;91 -->\n",
       "<g id=\"edge91\" class=\"edge\">\n",
       "<title>90&#45;&gt;91</title>\n",
       "<path fill=\"none\" stroke=\"black\" d=\"M2164,-791.7C2164,-783.98 2164,-774.71 2164,-766.11\"/>\n",
       "<polygon fill=\"black\" stroke=\"black\" points=\"2167.5,-766.1 2164,-756.1 2160.5,-766.1 2167.5,-766.1\"/>\n",
       "</g>\n",
       "<!-- 104 -->\n",
       "<g id=\"node105\" class=\"node\">\n",
       "<title>104</title>\n",
       "<polygon fill=\"none\" stroke=\"black\" points=\"2377.5,-756 2282.5,-756 2282.5,-720 2377.5,-720 2377.5,-756\"/>\n",
       "<text text-anchor=\"middle\" x=\"2330\" y=\"-734.3\" font-family=\"Times,serif\" font-size=\"14.00\">grade &lt;= 86.5</text>\n",
       "</g>\n",
       "<!-- 90&#45;&gt;104 -->\n",
       "<g id=\"edge104\" class=\"edge\">\n",
       "<title>90&#45;&gt;104</title>\n",
       "<path fill=\"none\" stroke=\"black\" d=\"M2204.61,-791.88C2227.4,-782.26 2256.03,-770.19 2280.17,-760.01\"/>\n",
       "<polygon fill=\"black\" stroke=\"black\" points=\"2281.67,-763.18 2289.52,-756.07 2278.95,-756.73 2281.67,-763.18\"/>\n",
       "</g>\n",
       "<!-- 92 -->\n",
       "<g id=\"node93\" class=\"node\">\n",
       "<title>92</title>\n",
       "<polygon fill=\"none\" stroke=\"black\" points=\"2155.5,-684 2060.5,-684 2060.5,-648 2155.5,-648 2155.5,-684\"/>\n",
       "<text text-anchor=\"middle\" x=\"2108\" y=\"-662.3\" font-family=\"Times,serif\" font-size=\"14.00\">grade &lt;= 71.0</text>\n",
       "</g>\n",
       "<!-- 91&#45;&gt;92 -->\n",
       "<g id=\"edge92\" class=\"edge\">\n",
       "<title>91&#45;&gt;92</title>\n",
       "<path fill=\"none\" stroke=\"black\" d=\"M2150.16,-719.7C2143.51,-711.39 2135.42,-701.28 2128.11,-692.14\"/>\n",
       "<polygon fill=\"black\" stroke=\"black\" points=\"2130.66,-689.73 2121.68,-684.1 2125.2,-694.1 2130.66,-689.73\"/>\n",
       "</g>\n",
       "<!-- 99 -->\n",
       "<g id=\"node100\" class=\"node\">\n",
       "<title>99</title>\n",
       "<polygon fill=\"none\" stroke=\"black\" points=\"2268.5,-684 2173.5,-684 2173.5,-648 2268.5,-648 2268.5,-684\"/>\n",
       "<text text-anchor=\"middle\" x=\"2221\" y=\"-662.3\" font-family=\"Times,serif\" font-size=\"14.00\">grade &lt;= 81.0</text>\n",
       "</g>\n",
       "<!-- 91&#45;&gt;99 -->\n",
       "<g id=\"edge99\" class=\"edge\">\n",
       "<title>91&#45;&gt;99</title>\n",
       "<path fill=\"none\" stroke=\"black\" d=\"M2178.09,-719.7C2184.92,-711.3 2193.26,-701.07 2200.76,-691.86\"/>\n",
       "<polygon fill=\"black\" stroke=\"black\" points=\"2203.47,-694.07 2207.07,-684.1 2198.04,-689.65 2203.47,-694.07\"/>\n",
       "</g>\n",
       "<!-- 93 -->\n",
       "<g id=\"node94\" class=\"node\">\n",
       "<title>93</title>\n",
       "<polygon fill=\"none\" stroke=\"black\" points=\"2047,-612 1971,-612 1971,-576 2047,-576 2047,-612\"/>\n",
       "<text text-anchor=\"middle\" x=\"2009\" y=\"-590.3\" font-family=\"Times,serif\" font-size=\"14.00\">class = No</text>\n",
       "</g>\n",
       "<!-- 92&#45;&gt;93 -->\n",
       "<g id=\"edge93\" class=\"edge\">\n",
       "<title>92&#45;&gt;93</title>\n",
       "<path fill=\"none\" stroke=\"black\" d=\"M2083.78,-647.88C2071.08,-638.89 2055.34,-627.76 2041.58,-618.03\"/>\n",
       "<polygon fill=\"black\" stroke=\"black\" points=\"2043.5,-615.11 2033.31,-612.19 2039.46,-620.82 2043.5,-615.11\"/>\n",
       "</g>\n",
       "<!-- 94 -->\n",
       "<g id=\"node95\" class=\"node\">\n",
       "<title>94</title>\n",
       "<polygon fill=\"none\" stroke=\"black\" points=\"2160.5,-612 2065.5,-612 2065.5,-576 2160.5,-576 2160.5,-612\"/>\n",
       "<text text-anchor=\"middle\" x=\"2113\" y=\"-590.3\" font-family=\"Times,serif\" font-size=\"14.00\">grade &lt;= 73.5</text>\n",
       "</g>\n",
       "<!-- 92&#45;&gt;94 -->\n",
       "<g id=\"edge94\" class=\"edge\">\n",
       "<title>92&#45;&gt;94</title>\n",
       "<path fill=\"none\" stroke=\"black\" d=\"M2109.24,-647.7C2109.79,-639.98 2110.45,-630.71 2111.06,-622.11\"/>\n",
       "<polygon fill=\"black\" stroke=\"black\" points=\"2114.56,-622.33 2111.78,-612.1 2107.57,-621.83 2114.56,-622.33\"/>\n",
       "</g>\n",
       "<!-- 95 -->\n",
       "<g id=\"node96\" class=\"node\">\n",
       "<title>95</title>\n",
       "<polygon fill=\"none\" stroke=\"black\" points=\"2059,-540 1979,-540 1979,-504 2059,-504 2059,-540\"/>\n",
       "<text text-anchor=\"middle\" x=\"2019\" y=\"-518.3\" font-family=\"Times,serif\" font-size=\"14.00\">class = Yes</text>\n",
       "</g>\n",
       "<!-- 94&#45;&gt;95 -->\n",
       "<g id=\"edge95\" class=\"edge\">\n",
       "<title>94&#45;&gt;95</title>\n",
       "<path fill=\"none\" stroke=\"black\" d=\"M2089.76,-575.7C2077.81,-566.8 2063.08,-555.82 2050.15,-546.2\"/>\n",
       "<polygon fill=\"black\" stroke=\"black\" points=\"2052.08,-543.27 2041.97,-540.1 2047.9,-548.88 2052.08,-543.27\"/>\n",
       "</g>\n",
       "<!-- 96 -->\n",
       "<g id=\"node97\" class=\"node\">\n",
       "<title>96</title>\n",
       "<polygon fill=\"none\" stroke=\"black\" points=\"2172.5,-540 2077.5,-540 2077.5,-504 2172.5,-504 2172.5,-540\"/>\n",
       "<text text-anchor=\"middle\" x=\"2125\" y=\"-518.3\" font-family=\"Times,serif\" font-size=\"14.00\">grade &lt;= 77.0</text>\n",
       "</g>\n",
       "<!-- 94&#45;&gt;96 -->\n",
       "<g id=\"edge96\" class=\"edge\">\n",
       "<title>94&#45;&gt;96</title>\n",
       "<path fill=\"none\" stroke=\"black\" d=\"M2115.97,-575.7C2117.29,-567.98 2118.88,-558.71 2120.35,-550.11\"/>\n",
       "<polygon fill=\"black\" stroke=\"black\" points=\"2123.83,-550.55 2122.07,-540.1 2116.93,-549.37 2123.83,-550.55\"/>\n",
       "</g>\n",
       "<!-- 97 -->\n",
       "<g id=\"node98\" class=\"node\">\n",
       "<title>97</title>\n",
       "<polygon fill=\"none\" stroke=\"black\" points=\"2116,-468 2036,-468 2036,-432 2116,-432 2116,-468\"/>\n",
       "<text text-anchor=\"middle\" x=\"2076\" y=\"-446.3\" font-family=\"Times,serif\" font-size=\"14.00\">class = Yes</text>\n",
       "</g>\n",
       "<!-- 96&#45;&gt;97 -->\n",
       "<g id=\"edge97\" class=\"edge\">\n",
       "<title>96&#45;&gt;97</title>\n",
       "<path fill=\"none\" stroke=\"black\" d=\"M2112.89,-503.7C2107.13,-495.47 2100.14,-485.48 2093.79,-476.42\"/>\n",
       "<polygon fill=\"black\" stroke=\"black\" points=\"2096.58,-474.29 2087.97,-468.1 2090.84,-478.3 2096.58,-474.29\"/>\n",
       "</g>\n",
       "<!-- 98 -->\n",
       "<g id=\"node99\" class=\"node\">\n",
       "<title>98</title>\n",
       "<polygon fill=\"none\" stroke=\"black\" points=\"2214,-468 2134,-468 2134,-432 2214,-432 2214,-468\"/>\n",
       "<text text-anchor=\"middle\" x=\"2174\" y=\"-446.3\" font-family=\"Times,serif\" font-size=\"14.00\">class = Yes</text>\n",
       "</g>\n",
       "<!-- 96&#45;&gt;98 -->\n",
       "<g id=\"edge98\" class=\"edge\">\n",
       "<title>96&#45;&gt;98</title>\n",
       "<path fill=\"none\" stroke=\"black\" d=\"M2137.11,-503.7C2142.87,-495.47 2149.86,-485.48 2156.21,-476.42\"/>\n",
       "<polygon fill=\"black\" stroke=\"black\" points=\"2159.16,-478.3 2162.03,-468.1 2153.42,-474.29 2159.16,-478.3\"/>\n",
       "</g>\n",
       "<!-- 100 -->\n",
       "<g id=\"node101\" class=\"node\">\n",
       "<title>100</title>\n",
       "<polygon fill=\"none\" stroke=\"black\" points=\"2259,-612 2179,-612 2179,-576 2259,-576 2259,-612\"/>\n",
       "<text text-anchor=\"middle\" x=\"2219\" y=\"-590.3\" font-family=\"Times,serif\" font-size=\"14.00\">class = Yes</text>\n",
       "</g>\n",
       "<!-- 99&#45;&gt;100 -->\n",
       "<g id=\"edge100\" class=\"edge\">\n",
       "<title>99&#45;&gt;100</title>\n",
       "<path fill=\"none\" stroke=\"black\" d=\"M2220.51,-647.7C2220.29,-639.98 2220.02,-630.71 2219.77,-622.11\"/>\n",
       "<polygon fill=\"black\" stroke=\"black\" points=\"2223.27,-622 2219.49,-612.1 2216.28,-622.2 2223.27,-622\"/>\n",
       "</g>\n",
       "<!-- 101 -->\n",
       "<g id=\"node102\" class=\"node\">\n",
       "<title>101</title>\n",
       "<polygon fill=\"none\" stroke=\"black\" points=\"2372.5,-612 2277.5,-612 2277.5,-576 2372.5,-576 2372.5,-612\"/>\n",
       "<text text-anchor=\"middle\" x=\"2325\" y=\"-590.3\" font-family=\"Times,serif\" font-size=\"14.00\">grade &lt;= 82.5</text>\n",
       "</g>\n",
       "<!-- 99&#45;&gt;101 -->\n",
       "<g id=\"edge101\" class=\"edge\">\n",
       "<title>99&#45;&gt;101</title>\n",
       "<path fill=\"none\" stroke=\"black\" d=\"M2246.44,-647.88C2259.79,-638.89 2276.32,-627.76 2290.78,-618.03\"/>\n",
       "<polygon fill=\"black\" stroke=\"black\" points=\"2293.12,-620.68 2299.46,-612.19 2289.21,-614.87 2293.12,-620.68\"/>\n",
       "</g>\n",
       "<!-- 102 -->\n",
       "<g id=\"node103\" class=\"node\">\n",
       "<title>102</title>\n",
       "<polygon fill=\"none\" stroke=\"black\" points=\"2273,-540 2197,-540 2197,-504 2273,-504 2273,-540\"/>\n",
       "<text text-anchor=\"middle\" x=\"2235\" y=\"-518.3\" font-family=\"Times,serif\" font-size=\"14.00\">class = No</text>\n",
       "</g>\n",
       "<!-- 101&#45;&gt;102 -->\n",
       "<g id=\"edge102\" class=\"edge\">\n",
       "<title>101&#45;&gt;102</title>\n",
       "<path fill=\"none\" stroke=\"black\" d=\"M2302.75,-575.7C2291.42,-566.88 2277.47,-556.03 2265.18,-546.47\"/>\n",
       "<polygon fill=\"black\" stroke=\"black\" points=\"2267.03,-543.48 2256.99,-540.1 2262.74,-549.01 2267.03,-543.48\"/>\n",
       "</g>\n",
       "<!-- 103 -->\n",
       "<g id=\"node104\" class=\"node\">\n",
       "<title>103</title>\n",
       "<polygon fill=\"none\" stroke=\"black\" points=\"2367,-540 2291,-540 2291,-504 2367,-504 2367,-540\"/>\n",
       "<text text-anchor=\"middle\" x=\"2329\" y=\"-518.3\" font-family=\"Times,serif\" font-size=\"14.00\">class = No</text>\n",
       "</g>\n",
       "<!-- 101&#45;&gt;103 -->\n",
       "<g id=\"edge103\" class=\"edge\">\n",
       "<title>101&#45;&gt;103</title>\n",
       "<path fill=\"none\" stroke=\"black\" d=\"M2325.99,-575.7C2326.43,-567.98 2326.96,-558.71 2327.45,-550.11\"/>\n",
       "<polygon fill=\"black\" stroke=\"black\" points=\"2330.95,-550.29 2328.02,-540.1 2323.96,-549.89 2330.95,-550.29\"/>\n",
       "</g>\n",
       "<!-- 105 -->\n",
       "<g id=\"node106\" class=\"node\">\n",
       "<title>105</title>\n",
       "<polygon fill=\"none\" stroke=\"black\" points=\"2370,-684 2290,-684 2290,-648 2370,-648 2370,-684\"/>\n",
       "<text text-anchor=\"middle\" x=\"2330\" y=\"-662.3\" font-family=\"Times,serif\" font-size=\"14.00\">class = Yes</text>\n",
       "</g>\n",
       "<!-- 104&#45;&gt;105 -->\n",
       "<g id=\"edge105\" class=\"edge\">\n",
       "<title>104&#45;&gt;105</title>\n",
       "<path fill=\"none\" stroke=\"black\" d=\"M2330,-719.7C2330,-711.98 2330,-702.71 2330,-694.11\"/>\n",
       "<polygon fill=\"black\" stroke=\"black\" points=\"2333.5,-694.1 2330,-684.1 2326.5,-694.1 2333.5,-694.1\"/>\n",
       "</g>\n",
       "<!-- 106 -->\n",
       "<g id=\"node107\" class=\"node\">\n",
       "<title>106</title>\n",
       "<polygon fill=\"none\" stroke=\"black\" points=\"2485.5,-684 2390.5,-684 2390.5,-648 2485.5,-648 2485.5,-684\"/>\n",
       "<text text-anchor=\"middle\" x=\"2438\" y=\"-662.3\" font-family=\"Times,serif\" font-size=\"14.00\">grade &lt;= 97.5</text>\n",
       "</g>\n",
       "<!-- 104&#45;&gt;106 -->\n",
       "<g id=\"edge106\" class=\"edge\">\n",
       "<title>104&#45;&gt;106</title>\n",
       "<path fill=\"none\" stroke=\"black\" d=\"M2356.42,-719.88C2370.41,-710.81 2387.78,-699.55 2402.89,-689.76\"/>\n",
       "<polygon fill=\"black\" stroke=\"black\" points=\"2404.99,-692.57 2411.48,-684.19 2401.18,-686.69 2404.99,-692.57\"/>\n",
       "</g>\n",
       "<!-- 107 -->\n",
       "<g id=\"node108\" class=\"node\">\n",
       "<title>107</title>\n",
       "<polygon fill=\"none\" stroke=\"black\" points=\"2485.5,-612 2390.5,-612 2390.5,-576 2485.5,-576 2485.5,-612\"/>\n",
       "<text text-anchor=\"middle\" x=\"2438\" y=\"-590.3\" font-family=\"Times,serif\" font-size=\"14.00\">grade &lt;= 92.5</text>\n",
       "</g>\n",
       "<!-- 106&#45;&gt;107 -->\n",
       "<g id=\"edge107\" class=\"edge\">\n",
       "<title>106&#45;&gt;107</title>\n",
       "<path fill=\"none\" stroke=\"black\" d=\"M2438,-647.7C2438,-639.98 2438,-630.71 2438,-622.11\"/>\n",
       "<polygon fill=\"black\" stroke=\"black\" points=\"2441.5,-622.1 2438,-612.1 2434.5,-622.1 2441.5,-622.1\"/>\n",
       "</g>\n",
       "<!-- 112 -->\n",
       "<g id=\"node113\" class=\"node\">\n",
       "<title>112</title>\n",
       "<polygon fill=\"none\" stroke=\"black\" points=\"2584,-612 2504,-612 2504,-576 2584,-576 2584,-612\"/>\n",
       "<text text-anchor=\"middle\" x=\"2544\" y=\"-590.3\" font-family=\"Times,serif\" font-size=\"14.00\">class = Yes</text>\n",
       "</g>\n",
       "<!-- 106&#45;&gt;112 -->\n",
       "<g id=\"edge112\" class=\"edge\">\n",
       "<title>106&#45;&gt;112</title>\n",
       "<path fill=\"none\" stroke=\"black\" d=\"M2463.93,-647.88C2477.66,-638.81 2494.71,-627.55 2509.54,-617.76\"/>\n",
       "<polygon fill=\"black\" stroke=\"black\" points=\"2511.55,-620.62 2517.97,-612.19 2507.7,-614.78 2511.55,-620.62\"/>\n",
       "</g>\n",
       "<!-- 108 -->\n",
       "<g id=\"node109\" class=\"node\">\n",
       "<title>108</title>\n",
       "<polygon fill=\"none\" stroke=\"black\" points=\"2483.5,-540 2388.5,-540 2388.5,-504 2483.5,-504 2483.5,-540\"/>\n",
       "<text text-anchor=\"middle\" x=\"2436\" y=\"-518.3\" font-family=\"Times,serif\" font-size=\"14.00\">grade &lt;= 89.0</text>\n",
       "</g>\n",
       "<!-- 107&#45;&gt;108 -->\n",
       "<g id=\"edge108\" class=\"edge\">\n",
       "<title>107&#45;&gt;108</title>\n",
       "<path fill=\"none\" stroke=\"black\" d=\"M2437.51,-575.7C2437.29,-567.98 2437.02,-558.71 2436.77,-550.11\"/>\n",
       "<polygon fill=\"black\" stroke=\"black\" points=\"2440.27,-550 2436.49,-540.1 2433.28,-550.2 2440.27,-550\"/>\n",
       "</g>\n",
       "<!-- 111 -->\n",
       "<g id=\"node112\" class=\"node\">\n",
       "<title>111</title>\n",
       "<polygon fill=\"none\" stroke=\"black\" points=\"2582,-540 2502,-540 2502,-504 2582,-504 2582,-540\"/>\n",
       "<text text-anchor=\"middle\" x=\"2542\" y=\"-518.3\" font-family=\"Times,serif\" font-size=\"14.00\">class = Yes</text>\n",
       "</g>\n",
       "<!-- 107&#45;&gt;111 -->\n",
       "<g id=\"edge111\" class=\"edge\">\n",
       "<title>107&#45;&gt;111</title>\n",
       "<path fill=\"none\" stroke=\"black\" d=\"M2463.44,-575.88C2476.79,-566.89 2493.32,-555.76 2507.78,-546.03\"/>\n",
       "<polygon fill=\"black\" stroke=\"black\" points=\"2510.12,-548.68 2516.46,-540.19 2506.21,-542.87 2510.12,-548.68\"/>\n",
       "</g>\n",
       "<!-- 109 -->\n",
       "<g id=\"node110\" class=\"node\">\n",
       "<title>109</title>\n",
       "<polygon fill=\"none\" stroke=\"black\" points=\"2426,-468 2350,-468 2350,-432 2426,-432 2426,-468\"/>\n",
       "<text text-anchor=\"middle\" x=\"2388\" y=\"-446.3\" font-family=\"Times,serif\" font-size=\"14.00\">class = No</text>\n",
       "</g>\n",
       "<!-- 108&#45;&gt;109 -->\n",
       "<g id=\"edge109\" class=\"edge\">\n",
       "<title>108&#45;&gt;109</title>\n",
       "<path fill=\"none\" stroke=\"black\" d=\"M2424.13,-503.7C2418.5,-495.47 2411.65,-485.48 2405.43,-476.42\"/>\n",
       "<polygon fill=\"black\" stroke=\"black\" points=\"2408.27,-474.37 2399.73,-468.1 2402.5,-478.33 2408.27,-474.37\"/>\n",
       "</g>\n",
       "<!-- 110 -->\n",
       "<g id=\"node111\" class=\"node\">\n",
       "<title>110</title>\n",
       "<polygon fill=\"none\" stroke=\"black\" points=\"2524,-468 2444,-468 2444,-432 2524,-432 2524,-468\"/>\n",
       "<text text-anchor=\"middle\" x=\"2484\" y=\"-446.3\" font-family=\"Times,serif\" font-size=\"14.00\">class = Yes</text>\n",
       "</g>\n",
       "<!-- 108&#45;&gt;110 -->\n",
       "<g id=\"edge110\" class=\"edge\">\n",
       "<title>108&#45;&gt;110</title>\n",
       "<path fill=\"none\" stroke=\"black\" d=\"M2447.87,-503.7C2453.5,-495.47 2460.35,-485.48 2466.57,-476.42\"/>\n",
       "<polygon fill=\"black\" stroke=\"black\" points=\"2469.5,-478.33 2472.27,-468.1 2463.73,-474.37 2469.5,-478.33\"/>\n",
       "</g>\n",
       "</g>\n",
       "</svg>\n"
      ],
      "text/plain": [
       "<graphviz.files.Source at 0x7fb57434f970>"
      ]
     },
     "execution_count": 31,
     "metadata": {},
     "output_type": "execute_result"
    }
   ],
   "source": [
    "display_tree(df.columns[:-1], tree)"
   ]
  },
  {
   "cell_type": "code",
   "execution_count": 32,
   "metadata": {},
   "outputs": [
    {
     "data": {
      "image/png": "[encoded data removed]",
      "text/plain": [
       "<Figure size 432x288 with 1 Axes>"
      ]
     },
     "metadata": {
      "needs_background": "light"
     },
     "output_type": "display_data"
    }
   ],
   "source": [
    "plot_classifier(X, y, tree, ticks=True);\n",
    "plt.xlabel(\"Meat consumption (% days)\");\n",
    "plt.ylabel(\"Expected grade (%)\");"
   ]
  },
  {
   "cell_type": "code",
   "execution_count": 33,
   "metadata": {},
   "outputs": [
    {
     "data": {
      "text/plain": [
       "0.805"
      ]
     },
     "execution_count": 33,
     "metadata": {},
     "output_type": "execute_result"
    }
   ],
   "source": [
    "tree.score(X, y)"
   ]
  },
  {
   "cell_type": "markdown",
   "metadata": {},
   "source": [
    "The reason it's not getting 100% accuracy: instances of duplicated features"
   ]
  },
  {
   "cell_type": "code",
   "execution_count": 34,
   "metadata": {},
   "outputs": [
    {
     "data": {
      "text/html": [
       "<div>\n",
       "<style scoped>\n",
       "    .dataframe tbody tr th:only-of-type {\n",
       "        vertical-align: middle;\n",
       "    }\n",
       "\n",
       "    .dataframe tbody tr th {\n",
       "        vertical-align: top;\n",
       "    }\n",
       "\n",
       "    .dataframe thead th {\n",
       "        text-align: right;\n",
       "    }\n",
       "</style>\n",
       "<table border=\"1\" class=\"dataframe\">\n",
       "  <thead>\n",
       "    <tr style=\"text-align: right;\">\n",
       "      <th></th>\n",
       "      <th>meat</th>\n",
       "      <th>grade</th>\n",
       "      <th>cilantro</th>\n",
       "    </tr>\n",
       "  </thead>\n",
       "  <tbody>\n",
       "    <tr>\n",
       "      <th>19</th>\n",
       "      <td>0.0</td>\n",
       "      <td>80</td>\n",
       "      <td>Yes</td>\n",
       "    </tr>\n",
       "    <tr>\n",
       "      <th>62</th>\n",
       "      <td>0.0</td>\n",
       "      <td>80</td>\n",
       "      <td>Yes</td>\n",
       "    </tr>\n",
       "    <tr>\n",
       "      <th>100</th>\n",
       "      <td>0.0</td>\n",
       "      <td>80</td>\n",
       "      <td>Yes</td>\n",
       "    </tr>\n",
       "    <tr>\n",
       "      <th>143</th>\n",
       "      <td>0.0</td>\n",
       "      <td>90</td>\n",
       "      <td>Yes</td>\n",
       "    </tr>\n",
       "    <tr>\n",
       "      <th>170</th>\n",
       "      <td>0.0</td>\n",
       "      <td>90</td>\n",
       "      <td>Yes</td>\n",
       "    </tr>\n",
       "    <tr>\n",
       "      <th>198</th>\n",
       "      <td>0.0</td>\n",
       "      <td>90</td>\n",
       "      <td>Yes</td>\n",
       "    </tr>\n",
       "    <tr>\n",
       "      <th>69</th>\n",
       "      <td>14.0</td>\n",
       "      <td>70</td>\n",
       "      <td>Yes</td>\n",
       "    </tr>\n",
       "    <tr>\n",
       "      <th>130</th>\n",
       "      <td>14.0</td>\n",
       "      <td>70</td>\n",
       "      <td>Yes</td>\n",
       "    </tr>\n",
       "    <tr>\n",
       "      <th>31</th>\n",
       "      <td>28.0</td>\n",
       "      <td>85</td>\n",
       "      <td>No</td>\n",
       "    </tr>\n",
       "    <tr>\n",
       "      <th>162</th>\n",
       "      <td>28.0</td>\n",
       "      <td>85</td>\n",
       "      <td>No</td>\n",
       "    </tr>\n",
       "    <tr>\n",
       "      <th>178</th>\n",
       "      <td>28.0</td>\n",
       "      <td>85</td>\n",
       "      <td>Yes</td>\n",
       "    </tr>\n",
       "    <tr>\n",
       "      <th>0</th>\n",
       "      <td>42.0</td>\n",
       "      <td>90</td>\n",
       "      <td>Yes</td>\n",
       "    </tr>\n",
       "    <tr>\n",
       "      <th>199</th>\n",
       "      <td>42.0</td>\n",
       "      <td>90</td>\n",
       "      <td>Yes</td>\n",
       "    </tr>\n",
       "    <tr>\n",
       "      <th>145</th>\n",
       "      <td>43.0</td>\n",
       "      <td>80</td>\n",
       "      <td>Yes</td>\n",
       "    </tr>\n",
       "    <tr>\n",
       "      <th>158</th>\n",
       "      <td>43.0</td>\n",
       "      <td>80</td>\n",
       "      <td>Yes</td>\n",
       "    </tr>\n",
       "    <tr>\n",
       "      <th>179</th>\n",
       "      <td>43.0</td>\n",
       "      <td>85</td>\n",
       "      <td>No</td>\n",
       "    </tr>\n",
       "    <tr>\n",
       "      <th>147</th>\n",
       "      <td>43.0</td>\n",
       "      <td>85</td>\n",
       "      <td>Yes</td>\n",
       "    </tr>\n",
       "    <tr>\n",
       "      <th>150</th>\n",
       "      <td>43.0</td>\n",
       "      <td>85</td>\n",
       "      <td>Yes</td>\n",
       "    </tr>\n",
       "    <tr>\n",
       "      <th>88</th>\n",
       "      <td>50.0</td>\n",
       "      <td>80</td>\n",
       "      <td>No</td>\n",
       "    </tr>\n",
       "    <tr>\n",
       "      <th>51</th>\n",
       "      <td>50.0</td>\n",
       "      <td>80</td>\n",
       "      <td>Yes</td>\n",
       "    </tr>\n",
       "  </tbody>\n",
       "</table>\n",
       "</div>"
      ],
      "text/plain": [
       "     meat  grade cilantro\n",
       "19    0.0     80      Yes\n",
       "62    0.0     80      Yes\n",
       "100   0.0     80      Yes\n",
       "143   0.0     90      Yes\n",
       "170   0.0     90      Yes\n",
       "198   0.0     90      Yes\n",
       "69   14.0     70      Yes\n",
       "130  14.0     70      Yes\n",
       "31   28.0     85       No\n",
       "162  28.0     85       No\n",
       "178  28.0     85      Yes\n",
       "0    42.0     90      Yes\n",
       "199  42.0     90      Yes\n",
       "145  43.0     80      Yes\n",
       "158  43.0     80      Yes\n",
       "179  43.0     85       No\n",
       "147  43.0     85      Yes\n",
       "150  43.0     85      Yes\n",
       "88   50.0     80       No\n",
       "51   50.0     80      Yes"
      ]
     },
     "execution_count": 34,
     "metadata": {},
     "output_type": "execute_result"
    }
   ],
   "source": [
    "# it's OK if you don't understand this line\n",
    "df.loc[df.duplicated(subset=df.columns[:-1], keep=False)].sort_values(by=df.columns.values.tolist()).head(20)"
   ]
  },
  {
   "cell_type": "markdown",
   "metadata": {},
   "source": [
    "If we remove the \"duplicates\" (cases where X is the same, not y) then we can get 100% accuracy:"
   ]
  },
  {
   "cell_type": "code",
   "execution_count": 35,
   "metadata": {},
   "outputs": [],
   "source": [
    "# it's OK if you don't understand this line\n",
    "df_nodup = df.sort_values(by=\"cilantro\").drop_duplicates(subset=df.columns[:-1]).reset_index(drop=True)"
   ]
  },
  {
   "cell_type": "code",
   "execution_count": 36,
   "metadata": {},
   "outputs": [
    {
     "data": {
      "text/plain": [
       "(95, 3)"
      ]
     },
     "execution_count": 36,
     "metadata": {},
     "output_type": "execute_result"
    }
   ],
   "source": [
    "df_nodup.shape"
   ]
  },
  {
   "cell_type": "code",
   "execution_count": 37,
   "metadata": {},
   "outputs": [],
   "source": [
    "X_nodup = df_nodup.iloc[:,:2]\n",
    "y_nodup = df_nodup.iloc[:,-1]"
   ]
  },
  {
   "cell_type": "code",
   "execution_count": 38,
   "metadata": {},
   "outputs": [],
   "source": [
    "tree_nodup = DecisionTreeClassifier() # default is max_depth=None"
   ]
  },
  {
   "cell_type": "code",
   "execution_count": 39,
   "metadata": {},
   "outputs": [],
   "source": [
    "tree_nodup.fit(X_nodup, y_nodup);"
   ]
  },
  {
   "cell_type": "code",
   "execution_count": 40,
   "metadata": {},
   "outputs": [
    {
     "data": {
      "text/plain": [
       "1.0"
      ]
     },
     "execution_count": 40,
     "metadata": {},
     "output_type": "execute_result"
    }
   ],
   "source": [
    "tree_nodup.score(X_nodup, y_nodup)"
   ]
  },
  {
   "cell_type": "code",
   "execution_count": 41,
   "metadata": {},
   "outputs": [
    {
     "data": {
      "image/png": "[encoded data removed]",
      "text/plain": [
       "<Figure size 432x288 with 1 Axes>"
      ]
     },
     "metadata": {
      "needs_background": "light"
     },
     "output_type": "display_data"
    }
   ],
   "source": [
    "plot_classifier(X_nodup, y_nodup, tree_nodup, ticks=True);\n",
    "plt.xlabel(\"Meat consumption (% days)\");\n",
    "plt.ylabel(\"Expected grade (%)\");"
   ]
  },
  {
   "cell_type": "markdown",
   "metadata": {},
   "source": [
    "Note: one would not actually remove the duplicates in a real scenario. This is just for illustration purposes."
   ]
  },
  {
   "cell_type": "markdown",
   "metadata": {},
   "source": [
    "## Break (5 mins)"
   ]
  },
  {
   "cell_type": "markdown",
   "metadata": {},
   "source": [
    "## True/False questions (15 min)\n",
    "\n",
    "For each of the following, answer with `fit` or `predict`:\n",
    "\n",
    "1. At least for decision trees, this is where most of the hard work is done. `fit`\n",
    "2. Only takes `X` as an argument. `predict`\n",
    "3. In scikit-learn, we can ignore its output. (kind of a void function, we don't need to grab and store the result) `fit` ('predict()' has a return value)\n",
    "4. Is called first (before the other one). `fit`\n",
    "\n",
    "<br><br><br><br><br><br>"
   ]
  },
  {
   "cell_type": "markdown",
   "metadata": {},
   "source": [
    "##  ML model parameters and hyperparameters (5 mins)\n",
    "\n",
    "- When you call `fit`, a bunch of values get set, like the split variables and split thresholds. \n",
    "- These are called **parameters**.\n",
    "- But even before calling `fit` on a specific data set, we can set some \"knobs\" that control the learning, e.g. `max_depth`.\n",
    "- These are called **hyperparameters**."
   ]
  },
  {
   "cell_type": "markdown",
   "metadata": {},
   "source": [
    "In scikit-learn, hyperparameters are set in the constructor:"
   ]
  },
  {
   "cell_type": "code",
   "execution_count": 42,
   "metadata": {},
   "outputs": [],
   "source": [
    "tree = DecisionTreeClassifier(max_depth=3) \n",
    "tree.fit(X, y);"
   ]
  },
  {
   "cell_type": "markdown",
   "metadata": {},
   "source": [
    "Here, `max_depth` is a hyperparameter. There are many, many more! See [here](https://scikit-learn.org/stable/modules/generated/sklearn.tree.DecisionTreeClassifier.html).\n",
    "\n"
   ]
  },
  {
   "cell_type": "markdown",
   "metadata": {},
   "source": [
    "To summarize:\n",
    "\n",
    "- **parameters** are automatically learned by the algorithm during training (`fit`)\n",
    "- **hyperparameters** are specified by the human, before `fit` (decided in advanced, a pre-decided value), based on:\n",
    "    - expert knowledge\n",
    "    - heuristics, or \n",
    "    - systematic/automated optimization (more on that later on)"
   ]
  },
  {
   "cell_type": "markdown",
   "metadata": {},
   "source": [
    "## Overfitting (15 mins)"
   ]
  },
  {
   "cell_type": "markdown",
   "metadata": {},
   "source": [
    "Important question: how does accuracy change vs. max_depth?"
   ]
  },
  {
   "cell_type": "code",
   "execution_count": 43,
   "metadata": {
    "jupyter": {
     "source_hidden": true
    }
   },
   "outputs": [
    {
     "data": {
      "image/png": "[encoded data removed]",
      "text/plain": [
       "<Figure size 432x288 with 1 Axes>"
      ]
     },
     "metadata": {
      "needs_background": "light"
     },
     "output_type": "display_data"
    }
   ],
   "source": [
    "# it would be good to understand this code, but not that urgent\n",
    "# I am using a list comprehension but you might find it easier to understand with a `for` loop - post on Piazza for more info\n",
    "max_depths = np.arange(1, 18)\n",
    "scores = [DecisionTreeClassifier(max_depth=max_depth).fit(X_nodup, y_nodup).score(X_nodup, y_nodup) for max_depth in max_depths]\n",
    "plt.plot(max_depths, scores);\n",
    "plt.xlabel(\"max depth\");\n",
    "plt.ylabel(\"accuracy score\");"
   ]
  },
  {
   "cell_type": "markdown",
   "metadata": {},
   "source": [
    "- Why not just use a very deep decision tree for every supervised learning problem and get super high accuracy?\n",
    "- Well, the goal of supervised learning is to predict unseen/new data...\n",
    "  - The above decision tree has 100% accuracy on the training data **where we already know the answer**.\n",
    "  - It perfectly labels the data we used to make the tree...\n",
    "  - But we want to know how our model performs on data not used in training.\n",
    "  - We will split our original dataset into two parts, one for \"training\" and one for \"testing\"."
   ]
  },
  {
   "cell_type": "code",
   "execution_count": 44,
   "metadata": {},
   "outputs": [],
   "source": [
    "from sklearn.model_selection import train_test_split"
   ]
  },
  {
   "cell_type": "code",
   "execution_count": 45,
   "metadata": {},
   "outputs": [],
   "source": [
    "df_train, df_test = train_test_split(df_nodup)"
   ]
  },
  {
   "cell_type": "markdown",
   "metadata": {},
   "source": [
    "- Split the data set into train examples and test examples, 75% and 25% of the data set respectively by defdalult"
   ]
  },
  {
   "cell_type": "code",
   "execution_count": 46,
   "metadata": {},
   "outputs": [
    {
     "data": {
      "image/png": "[encoded data removed]",
      "text/plain": [
       "<Figure size 432x288 with 1 Axes>"
      ]
     },
     "metadata": {
      "needs_background": "light"
     },
     "output_type": "display_data"
    }
   ],
   "source": [
    "scatter = plt.scatter(df_train[\"meat\"], df_train[\"grade\"], c=df_train[\"cilantro\"]==\"Yes\", cmap=plt.cm.coolwarm);\n",
    "plt.xlabel(\"Meat consumption (% days)\");\n",
    "plt.ylabel(\"Expected grade (%)\");\n",
    "plt.legend(scatter.legend_elements()[0], [\"No\", \"Yes\"]);"
   ]
  },
  {
   "cell_type": "code",
   "execution_count": 47,
   "metadata": {},
   "outputs": [
    {
     "data": {
      "image/png": "[encoded data removed]",
      "text/plain": [
       "<Figure size 432x288 with 1 Axes>"
      ]
     },
     "metadata": {
      "needs_background": "light"
     },
     "output_type": "display_data"
    }
   ],
   "source": [
    "scatter = plt.scatter(df_test[\"meat\"], df_test[\"grade\"], c=df_test[\"cilantro\"]==\"Yes\", cmap=plt.cm.coolwarm);\n",
    "plt.xlabel(\"Meat consumption (% days)\");\n",
    "plt.ylabel(\"Expected grade (%)\");\n",
    "plt.xlim((0,100));\n",
    "plt.ylim((0,100));\n",
    "plt.legend(scatter.legend_elements()[0], [\"No\", \"Yes\"]);"
   ]
  }
 ],
 "metadata": {
  "kernelspec": {
   "display_name": "Python 3",
   "language": "python",
   "name": "python3"
  },
  "language_info": {
   "codemirror_mode": {
    "name": "ipython",
    "version": 3
   },
   "file_extension": ".py",
   "mimetype": "text/x-python",
   "name": "python",
   "nbconvert_exporter": "python",
   "pygments_lexer": "ipython3",
   "version": "3.8.6"
  }
 },
 "nbformat": 4,
 "nbformat_minor": 4
}
